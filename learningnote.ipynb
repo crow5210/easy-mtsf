{
 "cells": [
  {
   "cell_type": "code",
   "execution_count": 1,
   "metadata": {},
   "outputs": [],
   "source": [
    "from config.cfg_algorithm import CFG_MODEL\n",
    "from config.cfg_general import CFG_GENERAL\n",
    "from config.cfg_dataset import CFG_DATASET\n",
    "from data.data_loader import build_dataset\n",
    "\n",
    "data = \"PEMS08\"\n",
    "datasets = build_dataset(CFG_GENERAL, CFG_DATASET[data])"
   ]
  }
 ],
 "metadata": {
  "kernelspec": {
   "display_name": "base",
   "language": "python",
   "name": "python3"
  },
  "language_info": {
   "codemirror_mode": {
    "name": "ipython",
    "version": 3
   },
   "file_extension": ".py",
   "mimetype": "text/x-python",
   "name": "python",
   "nbconvert_exporter": "python",
   "pygments_lexer": "ipython3",
   "version": "undefined.undefined.undefined"
  }
 },
 "nbformat": 4,
 "nbformat_minor": 2
}
