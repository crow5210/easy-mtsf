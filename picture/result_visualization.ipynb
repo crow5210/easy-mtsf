{
 "cells": [
  {
   "cell_type": "code",
   "execution_count": 46,
   "metadata": {},
   "outputs": [
    {
     "data": {
      "application/vnd.plotly.v1+json": {
       "config": {
        "plotlyServerURL": "https://plot.ly"
       },
       "data": [
        {
         "alignmentgroup": "True",
         "bingroup": "x",
         "histfunc": "sum",
         "histnorm": "percent",
         "hovertemplate": "variable=SPEED<br>SOURCE=Electricity<br>ALGOS=%{x}<br>percent of sum of value=%{y}<extra></extra>",
         "legendgroup": "SPEED",
         "marker": {
          "color": "RebeccaPurple",
          "pattern": {
           "shape": ""
          }
         },
         "name": "SPEED",
         "offsetgroup": "SPEED",
         "orientation": "v",
         "showlegend": true,
         "type": "histogram",
         "x": [
          "Linear",
          "DLinear",
          "NLinear",
          "PatchTST",
          "NHiTS",
          "NBEATS",
          "Informer",
          "Pyraformer",
          "Crossformer",
          "LSTNet",
          "FEDformer",
          "Autoformer"
         ],
         "xaxis": "x7",
         "y": [
          12.53,
          9.19,
          8.28,
          32.05,
          10.56,
          9.12,
          13.87,
          19.99,
          18.09,
          8.45,
          13.3,
          34.29
         ],
         "yaxis": "y7"
        },
        {
         "alignmentgroup": "True",
         "bingroup": "x",
         "histfunc": "sum",
         "histnorm": "percent",
         "hovertemplate": "variable=SPEED<br>SOURCE=ExchangeRate<br>ALGOS=%{x}<br>percent of sum of value=%{y}<extra></extra>",
         "legendgroup": "SPEED",
         "marker": {
          "color": "RebeccaPurple",
          "pattern": {
           "shape": ""
          }
         },
         "name": "SPEED",
         "offsetgroup": "SPEED",
         "orientation": "v",
         "showlegend": false,
         "type": "histogram",
         "x": [
          "Linear",
          "DLinear",
          "NLinear",
          "PatchTST",
          "NHiTS",
          "NBEATS",
          "Informer",
          "Pyraformer",
          "Crossformer",
          "LSTNet",
          "FEDformer",
          "Autoformer"
         ],
         "xaxis": "x8",
         "y": [
          0.24,
          0.25,
          0.25,
          0.44,
          0.3,
          0.56,
          1.29,
          3.33,
          0.99,
          0.27,
          1.47,
          7.24
         ],
         "yaxis": "y8"
        },
        {
         "alignmentgroup": "True",
         "bingroup": "x",
         "histfunc": "sum",
         "histnorm": "percent",
         "hovertemplate": "variable=SPEED<br>SOURCE=Weather<br>ALGOS=%{x}<br>percent of sum of value=%{y}<extra></extra>",
         "legendgroup": "SPEED",
         "marker": {
          "color": "RebeccaPurple",
          "pattern": {
           "shape": ""
          }
         },
         "name": "SPEED",
         "offsetgroup": "SPEED",
         "orientation": "v",
         "showlegend": false,
         "type": "histogram",
         "x": [
          "Linear",
          "DLinear",
          "NLinear",
          "PatchTST",
          "NHiTS",
          "NBEATS",
          "Informer",
          "Pyraformer",
          "Crossformer",
          "LSTNet",
          "FEDformer",
          "Autoformer"
         ],
         "xaxis": "x5",
         "y": [
          2.56,
          2.7,
          2.73,
          5.92,
          3.05,
          4.84,
          10.51,
          25.45,
          7.98,
          2.78,
          11.7,
          54.98
         ],
         "yaxis": "y5"
        },
        {
         "alignmentgroup": "True",
         "bingroup": "x",
         "histfunc": "sum",
         "histnorm": "percent",
         "hovertemplate": "variable=SPEED<br>SOURCE=ETTh1<br>ALGOS=%{x}<br>percent of sum of value=%{y}<extra></extra>",
         "legendgroup": "SPEED",
         "marker": {
          "color": "RebeccaPurple",
          "pattern": {
           "shape": ""
          }
         },
         "name": "SPEED",
         "offsetgroup": "SPEED",
         "orientation": "v",
         "showlegend": false,
         "type": "histogram",
         "x": [
          "Linear",
          "DLinear",
          "NLinear",
          "PatchTST",
          "NHiTS",
          "NBEATS",
          "Informer",
          "Pyraformer",
          "Crossformer",
          "LSTNet",
          "FEDformer",
          "Autoformer"
         ],
         "xaxis": "x6",
         "y": [
          0.55,
          0.59,
          0.6,
          0.97,
          0.7,
          1.32,
          3.12,
          7.95,
          2.34,
          0.65,
          3.51,
          17.44
         ],
         "yaxis": "y6"
        },
        {
         "alignmentgroup": "True",
         "bingroup": "x",
         "histfunc": "sum",
         "histnorm": "percent",
         "hovertemplate": "variable=SPEED<br>SOURCE=ETTm1<br>ALGOS=%{x}<br>percent of sum of value=%{y}<extra></extra>",
         "legendgroup": "SPEED",
         "marker": {
          "color": "RebeccaPurple",
          "pattern": {
           "shape": ""
          }
         },
         "name": "SPEED",
         "offsetgroup": "SPEED",
         "orientation": "v",
         "showlegend": false,
         "type": "histogram",
         "x": [
          "Linear",
          "DLinear",
          "NLinear",
          "PatchTST",
          "NHiTS",
          "NBEATS",
          "Informer",
          "Pyraformer",
          "Crossformer",
          "LSTNet",
          "FEDformer",
          "Autoformer"
         ],
         "xaxis": "x3",
         "y": [
          2.31,
          2.45,
          2.33,
          4.01,
          2.88,
          5.37,
          12.91,
          32.63,
          9.73,
          2.64,
          14.45,
          71.75
         ],
         "yaxis": "y3"
        },
        {
         "alignmentgroup": "True",
         "bingroup": "x",
         "histfunc": "sum",
         "histnorm": "percent",
         "hovertemplate": "variable=SPEED<br>SOURCE=ETTh2<br>ALGOS=%{x}<br>percent of sum of value=%{y}<extra></extra>",
         "legendgroup": "SPEED",
         "marker": {
          "color": "RebeccaPurple",
          "pattern": {
           "shape": ""
          }
         },
         "name": "SPEED",
         "offsetgroup": "SPEED",
         "orientation": "v",
         "showlegend": false,
         "type": "histogram",
         "x": [
          "Linear",
          "DLinear",
          "NLinear",
          "PatchTST",
          "NHiTS",
          "NBEATS",
          "Informer",
          "Pyraformer",
          "Crossformer",
          "LSTNet",
          "FEDformer",
          "Autoformer"
         ],
         "xaxis": "x4",
         "y": [
          0.56,
          0.59,
          0.57,
          0.97,
          0.67,
          1.3,
          3.12,
          7.99,
          2.35,
          0.64,
          3.63,
          17.22
         ],
         "yaxis": "y4"
        },
        {
         "alignmentgroup": "True",
         "bingroup": "x",
         "histfunc": "sum",
         "histnorm": "percent",
         "hovertemplate": "variable=SPEED<br>SOURCE=ETTm2<br>ALGOS=%{x}<br>percent of sum of value=%{y}<extra></extra>",
         "legendgroup": "SPEED",
         "marker": {
          "color": "RebeccaPurple",
          "pattern": {
           "shape": ""
          }
         },
         "name": "SPEED",
         "offsetgroup": "SPEED",
         "orientation": "v",
         "showlegend": false,
         "type": "histogram",
         "x": [
          "Linear",
          "DLinear",
          "NLinear",
          "PatchTST",
          "NHiTS",
          "NBEATS",
          "Informer",
          "Pyraformer",
          "Crossformer",
          "LSTNet",
          "FEDformer",
          "Autoformer"
         ],
         "xaxis": "x",
         "y": [
          2.33,
          2.48,
          2.29,
          4.01,
          2.78,
          5.36,
          12.88,
          32.83,
          9.59,
          2.65,
          16.11,
          65.4
         ],
         "yaxis": "y"
        },
        {
         "alignmentgroup": "True",
         "bingroup": "x",
         "histfunc": "sum",
         "histnorm": "percent",
         "hovertemplate": "variable=SPEED<br>SOURCE=BeijingAirQuality<br>ALGOS=%{x}<br>percent of sum of value=%{y}<extra></extra>",
         "legendgroup": "SPEED",
         "marker": {
          "color": "RebeccaPurple",
          "pattern": {
           "shape": ""
          }
         },
         "name": "SPEED",
         "offsetgroup": "SPEED",
         "orientation": "v",
         "showlegend": false,
         "type": "histogram",
         "x": [
          "Linear",
          "DLinear",
          "NLinear",
          "PatchTST",
          "NHiTS",
          "NBEATS",
          "Informer",
          "Pyraformer",
          "Crossformer",
          "LSTNet",
          "FEDformer",
          "Autoformer"
         ],
         "xaxis": "x2",
         "y": [
          1.11,
          1.14,
          1.1,
          1.97,
          1.37,
          2.05,
          6.52,
          16.76,
          4.84,
          1.29,
          7.89,
          37.45
         ],
         "yaxis": "y2"
        },
        {
         "alignmentgroup": "True",
         "bingroup": "x",
         "histfunc": "sum",
         "histnorm": "percent",
         "hovertemplate": "variable=MAE<br>SOURCE=Electricity<br>ALGOS=%{x}<br>percent of sum of value=%{y}<extra></extra>",
         "legendgroup": "MAE",
         "marker": {
          "color": "lightsalmon",
          "pattern": {
           "shape": ""
          }
         },
         "name": "MAE",
         "offsetgroup": "MAE",
         "orientation": "v",
         "showlegend": true,
         "type": "histogram",
         "x": [
          "Linear",
          "DLinear",
          "NLinear",
          "PatchTST",
          "NHiTS",
          "NBEATS",
          "Informer",
          "Pyraformer",
          "Crossformer",
          "LSTNet",
          "FEDformer",
          "Autoformer"
         ],
         "xaxis": "x7",
         "y": [
          296.928,
          306.215,
          266.611,
          260.523,
          275.297,
          1057.228,
          960.096,
          1039.721,
          407.41,
          2779.57,
          339.825,
          644.452
         ],
         "yaxis": "y7"
        },
        {
         "alignmentgroup": "True",
         "bingroup": "x",
         "histfunc": "sum",
         "histnorm": "percent",
         "hovertemplate": "variable=MAE<br>SOURCE=ExchangeRate<br>ALGOS=%{x}<br>percent of sum of value=%{y}<extra></extra>",
         "legendgroup": "MAE",
         "marker": {
          "color": "lightsalmon",
          "pattern": {
           "shape": ""
          }
         },
         "name": "MAE",
         "offsetgroup": "MAE",
         "orientation": "v",
         "showlegend": false,
         "type": "histogram",
         "x": [
          "Linear",
          "DLinear",
          "NLinear",
          "PatchTST",
          "NHiTS",
          "NBEATS",
          "Informer",
          "Pyraformer",
          "Crossformer",
          "LSTNet",
          "FEDformer",
          "Autoformer"
         ],
         "xaxis": "x8",
         "y": [
          0.045,
          0.044,
          0.033,
          0.035,
          0.032,
          0.085,
          0.092,
          0.1,
          0.042,
          0.291,
          0.048,
          0.048
         ],
         "yaxis": "y8"
        },
        {
         "alignmentgroup": "True",
         "bingroup": "x",
         "histfunc": "sum",
         "histnorm": "percent",
         "hovertemplate": "variable=MAE<br>SOURCE=Weather<br>ALGOS=%{x}<br>percent of sum of value=%{y}<extra></extra>",
         "legendgroup": "MAE",
         "marker": {
          "color": "lightsalmon",
          "pattern": {
           "shape": ""
          }
         },
         "name": "MAE",
         "offsetgroup": "MAE",
         "orientation": "v",
         "showlegend": false,
         "type": "histogram",
         "x": [
          "Linear",
          "DLinear",
          "NLinear",
          "PatchTST",
          "NHiTS",
          "NBEATS",
          "Informer",
          "Pyraformer",
          "Crossformer",
          "LSTNet",
          "FEDformer",
          "Autoformer"
         ],
         "xaxis": "x5",
         "y": [
          18.749,
          18.99,
          12.876,
          11.684,
          11.601,
          14.019,
          20.109,
          20.755,
          12.17,
          192.184,
          29.472,
          31.719
         ],
         "yaxis": "y5"
        },
        {
         "alignmentgroup": "True",
         "bingroup": "x",
         "histfunc": "sum",
         "histnorm": "percent",
         "hovertemplate": "variable=MAE<br>SOURCE=ETTh1<br>ALGOS=%{x}<br>percent of sum of value=%{y}<extra></extra>",
         "legendgroup": "MAE",
         "marker": {
          "color": "lightsalmon",
          "pattern": {
           "shape": ""
          }
         },
         "name": "MAE",
         "offsetgroup": "MAE",
         "orientation": "v",
         "showlegend": false,
         "type": "histogram",
         "x": [
          "Linear",
          "DLinear",
          "NLinear",
          "PatchTST",
          "NHiTS",
          "NBEATS",
          "Informer",
          "Pyraformer",
          "Crossformer",
          "LSTNet",
          "FEDformer",
          "Autoformer"
         ],
         "xaxis": "x6",
         "y": [
          1.97,
          2.01,
          2.007,
          1.972,
          2.026,
          3.119,
          3.123,
          3.572,
          2.172,
          4.068,
          2.23,
          2.344
         ],
         "yaxis": "y6"
        },
        {
         "alignmentgroup": "True",
         "bingroup": "x",
         "histfunc": "sum",
         "histnorm": "percent",
         "hovertemplate": "variable=MAE<br>SOURCE=ETTm1<br>ALGOS=%{x}<br>percent of sum of value=%{y}<extra></extra>",
         "legendgroup": "MAE",
         "marker": {
          "color": "lightsalmon",
          "pattern": {
           "shape": ""
          }
         },
         "name": "MAE",
         "offsetgroup": "MAE",
         "orientation": "v",
         "showlegend": false,
         "type": "histogram",
         "x": [
          "Linear",
          "DLinear",
          "NLinear",
          "PatchTST",
          "NHiTS",
          "NBEATS",
          "Informer",
          "Pyraformer",
          "Crossformer",
          "LSTNet",
          "FEDformer",
          "Autoformer"
         ],
         "xaxis": "x3",
         "y": [
          1.756,
          1.763,
          1.778,
          1.715,
          1.755,
          2.259,
          2.849,
          3.562,
          1.843,
          3.859,
          2.098,
          2.098
         ],
         "yaxis": "y3"
        },
        {
         "alignmentgroup": "True",
         "bingroup": "x",
         "histfunc": "sum",
         "histnorm": "percent",
         "hovertemplate": "variable=MAE<br>SOURCE=ETTh2<br>ALGOS=%{x}<br>percent of sum of value=%{y}<extra></extra>",
         "legendgroup": "MAE",
         "marker": {
          "color": "lightsalmon",
          "pattern": {
           "shape": ""
          }
         },
         "name": "MAE",
         "offsetgroup": "MAE",
         "orientation": "v",
         "showlegend": false,
         "type": "histogram",
         "x": [
          "Linear",
          "DLinear",
          "NLinear",
          "PatchTST",
          "NHiTS",
          "NBEATS",
          "Informer",
          "Pyraformer",
          "Crossformer",
          "LSTNet",
          "FEDformer",
          "Autoformer"
         ],
         "xaxis": "x4",
         "y": [
          3.263,
          3.228,
          2.924,
          3.103,
          3.198,
          5.523,
          5.219,
          6.423,
          3.61,
          13.551,
          3.435,
          3.398
         ],
         "yaxis": "y4"
        },
        {
         "alignmentgroup": "True",
         "bingroup": "x",
         "histfunc": "sum",
         "histnorm": "percent",
         "hovertemplate": "variable=MAE<br>SOURCE=ETTm2<br>ALGOS=%{x}<br>percent of sum of value=%{y}<extra></extra>",
         "legendgroup": "MAE",
         "marker": {
          "color": "lightsalmon",
          "pattern": {
           "shape": ""
          }
         },
         "name": "MAE",
         "offsetgroup": "MAE",
         "orientation": "v",
         "showlegend": false,
         "type": "histogram",
         "x": [
          "Linear",
          "DLinear",
          "NLinear",
          "PatchTST",
          "NHiTS",
          "NBEATS",
          "Informer",
          "Pyraformer",
          "Crossformer",
          "LSTNet",
          "FEDformer",
          "Autoformer"
         ],
         "xaxis": "x",
         "y": [
          2.502,
          2.533,
          2.412,
          2.356,
          2.459,
          3.629,
          4.504,
          7.364,
          3.118,
          13.557,
          2.637,
          2.659
         ],
         "yaxis": "y"
        },
        {
         "alignmentgroup": "True",
         "bingroup": "x",
         "histfunc": "sum",
         "histnorm": "percent",
         "hovertemplate": "variable=MAE<br>SOURCE=BeijingAirQuality<br>ALGOS=%{x}<br>percent of sum of value=%{y}<extra></extra>",
         "legendgroup": "MAE",
         "marker": {
          "color": "lightsalmon",
          "pattern": {
           "shape": ""
          }
         },
         "name": "MAE",
         "offsetgroup": "MAE",
         "orientation": "v",
         "showlegend": false,
         "type": "histogram",
         "x": [
          "Linear",
          "DLinear",
          "NLinear",
          "PatchTST",
          "NHiTS",
          "NBEATS",
          "Informer",
          "Pyraformer",
          "Crossformer",
          "LSTNet",
          "FEDformer",
          "Autoformer"
         ],
         "xaxis": "x2",
         "y": [
          24.077,
          24.24,
          24.217,
          23.272,
          24.335,
          25.326,
          25.805,
          27.321,
          23.315,
          43.325,
          24.962,
          24.149
         ],
         "yaxis": "y2"
        },
        {
         "alignmentgroup": "True",
         "bingroup": "x",
         "histfunc": "sum",
         "histnorm": "percent",
         "hovertemplate": "variable=WAPE<br>SOURCE=Electricity<br>ALGOS=%{x}<br>percent of sum of value=%{y}<extra></extra>",
         "legendgroup": "WAPE",
         "marker": {
          "color": "#2CA02C",
          "pattern": {
           "shape": ""
          }
         },
         "name": "WAPE",
         "offsetgroup": "WAPE",
         "orientation": "v",
         "showlegend": true,
         "type": "histogram",
         "x": [
          "Linear",
          "DLinear",
          "NLinear",
          "PatchTST",
          "NHiTS",
          "NBEATS",
          "Informer",
          "Pyraformer",
          "Crossformer",
          "LSTNet",
          "FEDformer",
          "Autoformer"
         ],
         "xaxis": "x7",
         "y": [
          0.112,
          0.115,
          0.1,
          0.098,
          0.103,
          0.391,
          0.356,
          0.385,
          0.153,
          1.05,
          0.129,
          0.231
         ],
         "yaxis": "y7"
        },
        {
         "alignmentgroup": "True",
         "bingroup": "x",
         "histfunc": "sum",
         "histnorm": "percent",
         "hovertemplate": "variable=WAPE<br>SOURCE=ExchangeRate<br>ALGOS=%{x}<br>percent of sum of value=%{y}<extra></extra>",
         "legendgroup": "WAPE",
         "marker": {
          "color": "#2CA02C",
          "pattern": {
           "shape": ""
          }
         },
         "name": "WAPE",
         "offsetgroup": "WAPE",
         "orientation": "v",
         "showlegend": false,
         "type": "histogram",
         "x": [
          "Linear",
          "DLinear",
          "NLinear",
          "PatchTST",
          "NHiTS",
          "NBEATS",
          "Informer",
          "Pyraformer",
          "Crossformer",
          "LSTNet",
          "FEDformer",
          "Autoformer"
         ],
         "xaxis": "x8",
         "y": [
          0.06,
          0.059,
          0.044,
          0.047,
          0.043,
          0.114,
          0.122,
          0.13,
          0.056,
          0.382,
          0.065,
          0.064
         ],
         "yaxis": "y8"
        },
        {
         "alignmentgroup": "True",
         "bingroup": "x",
         "histfunc": "sum",
         "histnorm": "percent",
         "hovertemplate": "variable=WAPE<br>SOURCE=Weather<br>ALGOS=%{x}<br>percent of sum of value=%{y}<extra></extra>",
         "legendgroup": "WAPE",
         "marker": {
          "color": "#2CA02C",
          "pattern": {
           "shape": ""
          }
         },
         "name": "WAPE",
         "offsetgroup": "WAPE",
         "orientation": "v",
         "showlegend": false,
         "type": "histogram",
         "x": [
          "Linear",
          "DLinear",
          "NLinear",
          "PatchTST",
          "NHiTS",
          "NBEATS",
          "Informer",
          "Pyraformer",
          "Crossformer",
          "LSTNet",
          "FEDformer",
          "Autoformer"
         ],
         "xaxis": "x5",
         "y": [
          0.112,
          0.114,
          0.077,
          0.07,
          0.069,
          0.084,
          0.12,
          0.124,
          0.073,
          1.151,
          0.177,
          0.19
         ],
         "yaxis": "y5"
        },
        {
         "alignmentgroup": "True",
         "bingroup": "x",
         "histfunc": "sum",
         "histnorm": "percent",
         "hovertemplate": "variable=WAPE<br>SOURCE=ETTh1<br>ALGOS=%{x}<br>percent of sum of value=%{y}<extra></extra>",
         "legendgroup": "WAPE",
         "marker": {
          "color": "#2CA02C",
          "pattern": {
           "shape": ""
          }
         },
         "name": "WAPE",
         "offsetgroup": "WAPE",
         "orientation": "v",
         "showlegend": false,
         "type": "histogram",
         "x": [
          "Linear",
          "DLinear",
          "NLinear",
          "PatchTST",
          "NHiTS",
          "NBEATS",
          "Informer",
          "Pyraformer",
          "Crossformer",
          "LSTNet",
          "FEDformer",
          "Autoformer"
         ],
         "xaxis": "x6",
         "y": [
          0.41,
          0.418,
          0.417,
          0.41,
          0.42,
          0.644,
          0.64,
          0.738,
          0.449,
          0.848,
          0.46,
          0.487
         ],
         "yaxis": "y6"
        },
        {
         "alignmentgroup": "True",
         "bingroup": "x",
         "histfunc": "sum",
         "histnorm": "percent",
         "hovertemplate": "variable=WAPE<br>SOURCE=ETTm1<br>ALGOS=%{x}<br>percent of sum of value=%{y}<extra></extra>",
         "legendgroup": "WAPE",
         "marker": {
          "color": "#2CA02C",
          "pattern": {
           "shape": ""
          }
         },
         "name": "WAPE",
         "offsetgroup": "WAPE",
         "orientation": "v",
         "showlegend": false,
         "type": "histogram",
         "x": [
          "Linear",
          "DLinear",
          "NLinear",
          "PatchTST",
          "NHiTS",
          "NBEATS",
          "Informer",
          "Pyraformer",
          "Crossformer",
          "LSTNet",
          "FEDformer",
          "Autoformer"
         ],
         "xaxis": "x3",
         "y": [
          0.366,
          0.368,
          0.371,
          0.358,
          0.368,
          0.466,
          0.591,
          0.737,
          0.387,
          0.808,
          0.431,
          0.433
         ],
         "yaxis": "y3"
        },
        {
         "alignmentgroup": "True",
         "bingroup": "x",
         "histfunc": "sum",
         "histnorm": "percent",
         "hovertemplate": "variable=WAPE<br>SOURCE=ETTh2<br>ALGOS=%{x}<br>percent of sum of value=%{y}<extra></extra>",
         "legendgroup": "WAPE",
         "marker": {
          "color": "#2CA02C",
          "pattern": {
           "shape": ""
          }
         },
         "name": "WAPE",
         "offsetgroup": "WAPE",
         "orientation": "v",
         "showlegend": false,
         "type": "histogram",
         "x": [
          "Linear",
          "DLinear",
          "NLinear",
          "PatchTST",
          "NHiTS",
          "NBEATS",
          "Informer",
          "Pyraformer",
          "Crossformer",
          "LSTNet",
          "FEDformer",
          "Autoformer"
         ],
         "xaxis": "x4",
         "y": [
          0.201,
          0.199,
          0.182,
          0.194,
          0.197,
          0.347,
          0.331,
          0.4,
          0.227,
          0.825,
          0.213,
          0.212
         ],
         "yaxis": "y4"
        },
        {
         "alignmentgroup": "True",
         "bingroup": "x",
         "histfunc": "sum",
         "histnorm": "percent",
         "hovertemplate": "variable=WAPE<br>SOURCE=ETTm2<br>ALGOS=%{x}<br>percent of sum of value=%{y}<extra></extra>",
         "legendgroup": "WAPE",
         "marker": {
          "color": "#2CA02C",
          "pattern": {
           "shape": ""
          }
         },
         "name": "WAPE",
         "offsetgroup": "WAPE",
         "orientation": "v",
         "showlegend": false,
         "type": "histogram",
         "x": [
          "Linear",
          "DLinear",
          "NLinear",
          "PatchTST",
          "NHiTS",
          "NBEATS",
          "Informer",
          "Pyraformer",
          "Crossformer",
          "LSTNet",
          "FEDformer",
          "Autoformer"
         ],
         "xaxis": "x",
         "y": [
          0.154,
          0.156,
          0.149,
          0.146,
          0.152,
          0.231,
          0.287,
          0.456,
          0.195,
          0.825,
          0.162,
          0.163
         ],
         "yaxis": "y"
        },
        {
         "alignmentgroup": "True",
         "bingroup": "x",
         "histfunc": "sum",
         "histnorm": "percent",
         "hovertemplate": "variable=WAPE<br>SOURCE=BeijingAirQuality<br>ALGOS=%{x}<br>percent of sum of value=%{y}<extra></extra>",
         "legendgroup": "WAPE",
         "marker": {
          "color": "#2CA02C",
          "pattern": {
           "shape": ""
          }
         },
         "name": "WAPE",
         "offsetgroup": "WAPE",
         "orientation": "v",
         "showlegend": false,
         "type": "histogram",
         "x": [
          "Linear",
          "DLinear",
          "NLinear",
          "PatchTST",
          "NHiTS",
          "NBEATS",
          "Informer",
          "Pyraformer",
          "Crossformer",
          "LSTNet",
          "FEDformer",
          "Autoformer"
         ],
         "xaxis": "x2",
         "y": [
          0.524,
          0.527,
          0.531,
          0.507,
          0.532,
          0.568,
          0.574,
          0.612,
          0.515,
          0.99,
          0.544,
          0.526
         ],
         "yaxis": "y2"
        },
        {
         "alignmentgroup": "True",
         "bingroup": "x",
         "histfunc": "sum",
         "histnorm": "percent",
         "hovertemplate": "variable=MAPE<br>SOURCE=Electricity<br>ALGOS=%{x}<br>percent of sum of value=%{y}<extra></extra>",
         "legendgroup": "MAPE",
         "marker": {
          "color": "#D62728",
          "pattern": {
           "shape": ""
          }
         },
         "name": "MAPE",
         "offsetgroup": "MAPE",
         "orientation": "v",
         "showlegend": true,
         "type": "histogram",
         "x": [
          "Linear",
          "DLinear",
          "NLinear",
          "PatchTST",
          "NHiTS",
          "NBEATS",
          "Informer",
          "Pyraformer",
          "Crossformer",
          "LSTNet",
          "FEDformer",
          "Autoformer"
         ],
         "xaxis": "x7",
         "y": [
          0.421,
          0.421,
          0.147,
          0.15,
          0.187,
          0.889,
          0.535,
          0.55,
          0.635,
          11.616,
          0.261,
          0.472
         ],
         "yaxis": "y7"
        },
        {
         "alignmentgroup": "True",
         "bingroup": "x",
         "histfunc": "sum",
         "histnorm": "percent",
         "hovertemplate": "variable=MAPE<br>SOURCE=ExchangeRate<br>ALGOS=%{x}<br>percent of sum of value=%{y}<extra></extra>",
         "legendgroup": "MAPE",
         "marker": {
          "color": "#D62728",
          "pattern": {
           "shape": ""
          }
         },
         "name": "MAPE",
         "offsetgroup": "MAPE",
         "orientation": "v",
         "showlegend": false,
         "type": "histogram",
         "x": [
          "Linear",
          "DLinear",
          "NLinear",
          "PatchTST",
          "NHiTS",
          "NBEATS",
          "Informer",
          "Pyraformer",
          "Crossformer",
          "LSTNet",
          "FEDformer",
          "Autoformer"
         ],
         "xaxis": "x8",
         "y": [
          0.465,
          0.47,
          0.051,
          0.051,
          0.051,
          0.313,
          0.191,
          0.185,
          0.173,
          9.149,
          0.088,
          0.077
         ],
         "yaxis": "y8"
        },
        {
         "alignmentgroup": "True",
         "bingroup": "x",
         "histfunc": "sum",
         "histnorm": "percent",
         "hovertemplate": "variable=MAPE<br>SOURCE=Weather<br>ALGOS=%{x}<br>percent of sum of value=%{y}<extra></extra>",
         "legendgroup": "MAPE",
         "marker": {
          "color": "#D62728",
          "pattern": {
           "shape": ""
          }
         },
         "name": "MAPE",
         "offsetgroup": "MAPE",
         "orientation": "v",
         "showlegend": false,
         "type": "histogram",
         "x": [
          "Linear",
          "DLinear",
          "NLinear",
          "PatchTST",
          "NHiTS",
          "NBEATS",
          "Informer",
          "Pyraformer",
          "Crossformer",
          "LSTNet",
          "FEDformer",
          "Autoformer"
         ],
         "xaxis": "x5",
         "y": [
          3.505,
          3.654,
          0.977,
          0.863,
          0.813,
          1.641,
          2.629,
          2.956,
          1.36,
          85.137,
          4.658,
          5.792
         ],
         "yaxis": "y5"
        },
        {
         "alignmentgroup": "True",
         "bingroup": "x",
         "histfunc": "sum",
         "histnorm": "percent",
         "hovertemplate": "variable=MAPE<br>SOURCE=ETTh1<br>ALGOS=%{x}<br>percent of sum of value=%{y}<extra></extra>",
         "legendgroup": "MAPE",
         "marker": {
          "color": "#D62728",
          "pattern": {
           "shape": ""
          }
         },
         "name": "MAPE",
         "offsetgroup": "MAPE",
         "orientation": "v",
         "showlegend": false,
         "type": "histogram",
         "x": [
          "Linear",
          "DLinear",
          "NLinear",
          "PatchTST",
          "NHiTS",
          "NBEATS",
          "Informer",
          "Pyraformer",
          "Crossformer",
          "LSTNet",
          "FEDformer",
          "Autoformer"
         ],
         "xaxis": "x6",
         "y": [
          0.959,
          0.979,
          0.931,
          0.91,
          0.941,
          1.57,
          1.249,
          1.189,
          0.922,
          3.237,
          0.998,
          1.104
         ],
         "yaxis": "y6"
        },
        {
         "alignmentgroup": "True",
         "bingroup": "x",
         "histfunc": "sum",
         "histnorm": "percent",
         "hovertemplate": "variable=MAPE<br>SOURCE=ETTm1<br>ALGOS=%{x}<br>percent of sum of value=%{y}<extra></extra>",
         "legendgroup": "MAPE",
         "marker": {
          "color": "#D62728",
          "pattern": {
           "shape": ""
          }
         },
         "name": "MAPE",
         "offsetgroup": "MAPE",
         "orientation": "v",
         "showlegend": false,
         "type": "histogram",
         "x": [
          "Linear",
          "DLinear",
          "NLinear",
          "PatchTST",
          "NHiTS",
          "NBEATS",
          "Informer",
          "Pyraformer",
          "Crossformer",
          "LSTNet",
          "FEDformer",
          "Autoformer"
         ],
         "xaxis": "x3",
         "y": [
          0.806,
          0.801,
          0.779,
          0.745,
          0.779,
          0.895,
          1.032,
          1.224,
          0.817,
          3.119,
          0.779,
          0.788
         ],
         "yaxis": "y3"
        },
        {
         "alignmentgroup": "True",
         "bingroup": "x",
         "histfunc": "sum",
         "histnorm": "percent",
         "hovertemplate": "variable=MAPE<br>SOURCE=ETTh2<br>ALGOS=%{x}<br>percent of sum of value=%{y}<extra></extra>",
         "legendgroup": "MAPE",
         "marker": {
          "color": "#D62728",
          "pattern": {
           "shape": ""
          }
         },
         "name": "MAPE",
         "offsetgroup": "MAPE",
         "orientation": "v",
         "showlegend": false,
         "type": "histogram",
         "x": [
          "Linear",
          "DLinear",
          "NLinear",
          "PatchTST",
          "NHiTS",
          "NBEATS",
          "Informer",
          "Pyraformer",
          "Crossformer",
          "LSTNet",
          "FEDformer",
          "Autoformer"
         ],
         "xaxis": "x4",
         "y": [
          0.377,
          0.357,
          0.289,
          0.318,
          0.324,
          0.768,
          0.785,
          0.927,
          0.455,
          2.884,
          0.387,
          0.341
         ],
         "yaxis": "y4"
        },
        {
         "alignmentgroup": "True",
         "bingroup": "x",
         "histfunc": "sum",
         "histnorm": "percent",
         "hovertemplate": "variable=MAPE<br>SOURCE=ETTm2<br>ALGOS=%{x}<br>percent of sum of value=%{y}<extra></extra>",
         "legendgroup": "MAPE",
         "marker": {
          "color": "#D62728",
          "pattern": {
           "shape": ""
          }
         },
         "name": "MAPE",
         "offsetgroup": "MAPE",
         "orientation": "v",
         "showlegend": false,
         "type": "histogram",
         "x": [
          "Linear",
          "DLinear",
          "NLinear",
          "PatchTST",
          "NHiTS",
          "NBEATS",
          "Informer",
          "Pyraformer",
          "Crossformer",
          "LSTNet",
          "FEDformer",
          "Autoformer"
         ],
         "xaxis": "x",
         "y": [
          0.235,
          0.241,
          0.202,
          0.201,
          0.224,
          0.442,
          0.63,
          0.892,
          0.339,
          2.746,
          0.217,
          0.214
         ],
         "yaxis": "y"
        },
        {
         "alignmentgroup": "True",
         "bingroup": "x",
         "histfunc": "sum",
         "histnorm": "percent",
         "hovertemplate": "variable=MAPE<br>SOURCE=BeijingAirQuality<br>ALGOS=%{x}<br>percent of sum of value=%{y}<extra></extra>",
         "legendgroup": "MAPE",
         "marker": {
          "color": "#D62728",
          "pattern": {
           "shape": ""
          }
         },
         "name": "MAPE",
         "offsetgroup": "MAPE",
         "orientation": "v",
         "showlegend": false,
         "type": "histogram",
         "x": [
          "Linear",
          "DLinear",
          "NLinear",
          "PatchTST",
          "NHiTS",
          "NBEATS",
          "Informer",
          "Pyraformer",
          "Crossformer",
          "LSTNet",
          "FEDformer",
          "Autoformer"
         ],
         "xaxis": "x2",
         "y": [
          1.653,
          1.706,
          0.918,
          0.797,
          1.368,
          1.079,
          1.007,
          1.103,
          0.988,
          17.839,
          0.928,
          0.866
         ],
         "yaxis": "y2"
        }
       ],
       "layout": {
        "annotations": [
         {
          "font": {},
          "showarrow": false,
          "text": "SOURCE=ETTm2",
          "x": 0.245,
          "xanchor": "center",
          "xref": "paper",
          "y": 0.1975,
          "yanchor": "bottom",
          "yref": "paper"
         },
         {
          "font": {},
          "showarrow": false,
          "text": "SOURCE=BeijingAirQuality",
          "x": 0.755,
          "xanchor": "center",
          "xref": "paper",
          "y": 0.1975,
          "yanchor": "bottom",
          "yref": "paper"
         },
         {
          "font": {},
          "showarrow": false,
          "text": "SOURCE=ETTm1",
          "x": 0.245,
          "xanchor": "center",
          "xref": "paper",
          "y": 0.465,
          "yanchor": "bottom",
          "yref": "paper"
         },
         {
          "font": {},
          "showarrow": false,
          "text": "SOURCE=ETTh2",
          "x": 0.755,
          "xanchor": "center",
          "xref": "paper",
          "y": 0.465,
          "yanchor": "bottom",
          "yref": "paper"
         },
         {
          "font": {},
          "showarrow": false,
          "text": "SOURCE=Weather",
          "x": 0.245,
          "xanchor": "center",
          "xref": "paper",
          "y": 0.7325,
          "yanchor": "bottom",
          "yref": "paper"
         },
         {
          "font": {},
          "showarrow": false,
          "text": "SOURCE=ETTh1",
          "x": 0.755,
          "xanchor": "center",
          "xref": "paper",
          "y": 0.7325,
          "yanchor": "bottom",
          "yref": "paper"
         },
         {
          "font": {},
          "showarrow": false,
          "text": "SOURCE=Electricity",
          "x": 0.245,
          "xanchor": "center",
          "xref": "paper",
          "y": 1,
          "yanchor": "bottom",
          "yref": "paper"
         },
         {
          "font": {},
          "showarrow": false,
          "text": "SOURCE=ExchangeRate",
          "x": 0.755,
          "xanchor": "center",
          "xref": "paper",
          "y": 1,
          "yanchor": "bottom",
          "yref": "paper"
         }
        ],
        "bargap": 0.2,
        "barmode": "group",
        "font": {
         "family": "San Serif"
        },
        "height": 800,
        "legend": {
         "orientation": "v",
         "title": {
          "text": "variable"
         },
         "tracegroupgap": 0,
         "x": 1.25,
         "xanchor": "right",
         "y": 1,
         "yanchor": "top"
        },
        "template": {
         "data": {
          "bar": [
           {
            "error_x": {
             "color": "rgb(36,36,36)"
            },
            "error_y": {
             "color": "rgb(36,36,36)"
            },
            "marker": {
             "line": {
              "color": "white",
              "width": 0.5
             },
             "pattern": {
              "fillmode": "overlay",
              "size": 10,
              "solidity": 0.2
             }
            },
            "type": "bar"
           }
          ],
          "barpolar": [
           {
            "marker": {
             "line": {
              "color": "white",
              "width": 0.5
             },
             "pattern": {
              "fillmode": "overlay",
              "size": 10,
              "solidity": 0.2
             }
            },
            "type": "barpolar"
           }
          ],
          "carpet": [
           {
            "aaxis": {
             "endlinecolor": "rgb(36,36,36)",
             "gridcolor": "white",
             "linecolor": "white",
             "minorgridcolor": "white",
             "startlinecolor": "rgb(36,36,36)"
            },
            "baxis": {
             "endlinecolor": "rgb(36,36,36)",
             "gridcolor": "white",
             "linecolor": "white",
             "minorgridcolor": "white",
             "startlinecolor": "rgb(36,36,36)"
            },
            "type": "carpet"
           }
          ],
          "choropleth": [
           {
            "colorbar": {
             "outlinewidth": 1,
             "tickcolor": "rgb(36,36,36)",
             "ticks": "outside"
            },
            "type": "choropleth"
           }
          ],
          "contour": [
           {
            "colorbar": {
             "outlinewidth": 1,
             "tickcolor": "rgb(36,36,36)",
             "ticks": "outside"
            },
            "colorscale": [
             [
              0,
              "#440154"
             ],
             [
              0.1111111111111111,
              "#482878"
             ],
             [
              0.2222222222222222,
              "#3e4989"
             ],
             [
              0.3333333333333333,
              "#31688e"
             ],
             [
              0.4444444444444444,
              "#26828e"
             ],
             [
              0.5555555555555556,
              "#1f9e89"
             ],
             [
              0.6666666666666666,
              "#35b779"
             ],
             [
              0.7777777777777778,
              "#6ece58"
             ],
             [
              0.8888888888888888,
              "#b5de2b"
             ],
             [
              1,
              "#fde725"
             ]
            ],
            "type": "contour"
           }
          ],
          "contourcarpet": [
           {
            "colorbar": {
             "outlinewidth": 1,
             "tickcolor": "rgb(36,36,36)",
             "ticks": "outside"
            },
            "type": "contourcarpet"
           }
          ],
          "heatmap": [
           {
            "colorbar": {
             "outlinewidth": 1,
             "tickcolor": "rgb(36,36,36)",
             "ticks": "outside"
            },
            "colorscale": [
             [
              0,
              "#440154"
             ],
             [
              0.1111111111111111,
              "#482878"
             ],
             [
              0.2222222222222222,
              "#3e4989"
             ],
             [
              0.3333333333333333,
              "#31688e"
             ],
             [
              0.4444444444444444,
              "#26828e"
             ],
             [
              0.5555555555555556,
              "#1f9e89"
             ],
             [
              0.6666666666666666,
              "#35b779"
             ],
             [
              0.7777777777777778,
              "#6ece58"
             ],
             [
              0.8888888888888888,
              "#b5de2b"
             ],
             [
              1,
              "#fde725"
             ]
            ],
            "type": "heatmap"
           }
          ],
          "heatmapgl": [
           {
            "colorbar": {
             "outlinewidth": 1,
             "tickcolor": "rgb(36,36,36)",
             "ticks": "outside"
            },
            "colorscale": [
             [
              0,
              "#440154"
             ],
             [
              0.1111111111111111,
              "#482878"
             ],
             [
              0.2222222222222222,
              "#3e4989"
             ],
             [
              0.3333333333333333,
              "#31688e"
             ],
             [
              0.4444444444444444,
              "#26828e"
             ],
             [
              0.5555555555555556,
              "#1f9e89"
             ],
             [
              0.6666666666666666,
              "#35b779"
             ],
             [
              0.7777777777777778,
              "#6ece58"
             ],
             [
              0.8888888888888888,
              "#b5de2b"
             ],
             [
              1,
              "#fde725"
             ]
            ],
            "type": "heatmapgl"
           }
          ],
          "histogram": [
           {
            "marker": {
             "line": {
              "color": "white",
              "width": 0.6
             }
            },
            "type": "histogram"
           }
          ],
          "histogram2d": [
           {
            "colorbar": {
             "outlinewidth": 1,
             "tickcolor": "rgb(36,36,36)",
             "ticks": "outside"
            },
            "colorscale": [
             [
              0,
              "#440154"
             ],
             [
              0.1111111111111111,
              "#482878"
             ],
             [
              0.2222222222222222,
              "#3e4989"
             ],
             [
              0.3333333333333333,
              "#31688e"
             ],
             [
              0.4444444444444444,
              "#26828e"
             ],
             [
              0.5555555555555556,
              "#1f9e89"
             ],
             [
              0.6666666666666666,
              "#35b779"
             ],
             [
              0.7777777777777778,
              "#6ece58"
             ],
             [
              0.8888888888888888,
              "#b5de2b"
             ],
             [
              1,
              "#fde725"
             ]
            ],
            "type": "histogram2d"
           }
          ],
          "histogram2dcontour": [
           {
            "colorbar": {
             "outlinewidth": 1,
             "tickcolor": "rgb(36,36,36)",
             "ticks": "outside"
            },
            "colorscale": [
             [
              0,
              "#440154"
             ],
             [
              0.1111111111111111,
              "#482878"
             ],
             [
              0.2222222222222222,
              "#3e4989"
             ],
             [
              0.3333333333333333,
              "#31688e"
             ],
             [
              0.4444444444444444,
              "#26828e"
             ],
             [
              0.5555555555555556,
              "#1f9e89"
             ],
             [
              0.6666666666666666,
              "#35b779"
             ],
             [
              0.7777777777777778,
              "#6ece58"
             ],
             [
              0.8888888888888888,
              "#b5de2b"
             ],
             [
              1,
              "#fde725"
             ]
            ],
            "type": "histogram2dcontour"
           }
          ],
          "mesh3d": [
           {
            "colorbar": {
             "outlinewidth": 1,
             "tickcolor": "rgb(36,36,36)",
             "ticks": "outside"
            },
            "type": "mesh3d"
           }
          ],
          "parcoords": [
           {
            "line": {
             "colorbar": {
              "outlinewidth": 1,
              "tickcolor": "rgb(36,36,36)",
              "ticks": "outside"
             }
            },
            "type": "parcoords"
           }
          ],
          "pie": [
           {
            "automargin": true,
            "type": "pie"
           }
          ],
          "scatter": [
           {
            "fillpattern": {
             "fillmode": "overlay",
             "size": 10,
             "solidity": 0.2
            },
            "type": "scatter"
           }
          ],
          "scatter3d": [
           {
            "line": {
             "colorbar": {
              "outlinewidth": 1,
              "tickcolor": "rgb(36,36,36)",
              "ticks": "outside"
             }
            },
            "marker": {
             "colorbar": {
              "outlinewidth": 1,
              "tickcolor": "rgb(36,36,36)",
              "ticks": "outside"
             }
            },
            "type": "scatter3d"
           }
          ],
          "scattercarpet": [
           {
            "marker": {
             "colorbar": {
              "outlinewidth": 1,
              "tickcolor": "rgb(36,36,36)",
              "ticks": "outside"
             }
            },
            "type": "scattercarpet"
           }
          ],
          "scattergeo": [
           {
            "marker": {
             "colorbar": {
              "outlinewidth": 1,
              "tickcolor": "rgb(36,36,36)",
              "ticks": "outside"
             }
            },
            "type": "scattergeo"
           }
          ],
          "scattergl": [
           {
            "marker": {
             "colorbar": {
              "outlinewidth": 1,
              "tickcolor": "rgb(36,36,36)",
              "ticks": "outside"
             }
            },
            "type": "scattergl"
           }
          ],
          "scattermapbox": [
           {
            "marker": {
             "colorbar": {
              "outlinewidth": 1,
              "tickcolor": "rgb(36,36,36)",
              "ticks": "outside"
             }
            },
            "type": "scattermapbox"
           }
          ],
          "scatterpolar": [
           {
            "marker": {
             "colorbar": {
              "outlinewidth": 1,
              "tickcolor": "rgb(36,36,36)",
              "ticks": "outside"
             }
            },
            "type": "scatterpolar"
           }
          ],
          "scatterpolargl": [
           {
            "marker": {
             "colorbar": {
              "outlinewidth": 1,
              "tickcolor": "rgb(36,36,36)",
              "ticks": "outside"
             }
            },
            "type": "scatterpolargl"
           }
          ],
          "scatterternary": [
           {
            "marker": {
             "colorbar": {
              "outlinewidth": 1,
              "tickcolor": "rgb(36,36,36)",
              "ticks": "outside"
             }
            },
            "type": "scatterternary"
           }
          ],
          "surface": [
           {
            "colorbar": {
             "outlinewidth": 1,
             "tickcolor": "rgb(36,36,36)",
             "ticks": "outside"
            },
            "colorscale": [
             [
              0,
              "#440154"
             ],
             [
              0.1111111111111111,
              "#482878"
             ],
             [
              0.2222222222222222,
              "#3e4989"
             ],
             [
              0.3333333333333333,
              "#31688e"
             ],
             [
              0.4444444444444444,
              "#26828e"
             ],
             [
              0.5555555555555556,
              "#1f9e89"
             ],
             [
              0.6666666666666666,
              "#35b779"
             ],
             [
              0.7777777777777778,
              "#6ece58"
             ],
             [
              0.8888888888888888,
              "#b5de2b"
             ],
             [
              1,
              "#fde725"
             ]
            ],
            "type": "surface"
           }
          ],
          "table": [
           {
            "cells": {
             "fill": {
              "color": "rgb(237,237,237)"
             },
             "line": {
              "color": "white"
             }
            },
            "header": {
             "fill": {
              "color": "rgb(217,217,217)"
             },
             "line": {
              "color": "white"
             }
            },
            "type": "table"
           }
          ]
         },
         "layout": {
          "annotationdefaults": {
           "arrowhead": 0,
           "arrowwidth": 1
          },
          "autotypenumbers": "strict",
          "coloraxis": {
           "colorbar": {
            "outlinewidth": 1,
            "tickcolor": "rgb(36,36,36)",
            "ticks": "outside"
           }
          },
          "colorscale": {
           "diverging": [
            [
             0,
             "rgb(103,0,31)"
            ],
            [
             0.1,
             "rgb(178,24,43)"
            ],
            [
             0.2,
             "rgb(214,96,77)"
            ],
            [
             0.3,
             "rgb(244,165,130)"
            ],
            [
             0.4,
             "rgb(253,219,199)"
            ],
            [
             0.5,
             "rgb(247,247,247)"
            ],
            [
             0.6,
             "rgb(209,229,240)"
            ],
            [
             0.7,
             "rgb(146,197,222)"
            ],
            [
             0.8,
             "rgb(67,147,195)"
            ],
            [
             0.9,
             "rgb(33,102,172)"
            ],
            [
             1,
             "rgb(5,48,97)"
            ]
           ],
           "sequential": [
            [
             0,
             "#440154"
            ],
            [
             0.1111111111111111,
             "#482878"
            ],
            [
             0.2222222222222222,
             "#3e4989"
            ],
            [
             0.3333333333333333,
             "#31688e"
            ],
            [
             0.4444444444444444,
             "#26828e"
            ],
            [
             0.5555555555555556,
             "#1f9e89"
            ],
            [
             0.6666666666666666,
             "#35b779"
            ],
            [
             0.7777777777777778,
             "#6ece58"
            ],
            [
             0.8888888888888888,
             "#b5de2b"
            ],
            [
             1,
             "#fde725"
            ]
           ],
           "sequentialminus": [
            [
             0,
             "#440154"
            ],
            [
             0.1111111111111111,
             "#482878"
            ],
            [
             0.2222222222222222,
             "#3e4989"
            ],
            [
             0.3333333333333333,
             "#31688e"
            ],
            [
             0.4444444444444444,
             "#26828e"
            ],
            [
             0.5555555555555556,
             "#1f9e89"
            ],
            [
             0.6666666666666666,
             "#35b779"
            ],
            [
             0.7777777777777778,
             "#6ece58"
            ],
            [
             0.8888888888888888,
             "#b5de2b"
            ],
            [
             1,
             "#fde725"
            ]
           ]
          },
          "colorway": [
           "#1F77B4",
           "#FF7F0E",
           "#2CA02C",
           "#D62728",
           "#9467BD",
           "#8C564B",
           "#E377C2",
           "#7F7F7F",
           "#BCBD22",
           "#17BECF"
          ],
          "font": {
           "color": "rgb(36,36,36)"
          },
          "geo": {
           "bgcolor": "white",
           "lakecolor": "white",
           "landcolor": "white",
           "showlakes": true,
           "showland": true,
           "subunitcolor": "white"
          },
          "hoverlabel": {
           "align": "left"
          },
          "hovermode": "closest",
          "mapbox": {
           "style": "light"
          },
          "paper_bgcolor": "white",
          "plot_bgcolor": "white",
          "polar": {
           "angularaxis": {
            "gridcolor": "rgb(232,232,232)",
            "linecolor": "rgb(36,36,36)",
            "showgrid": false,
            "showline": true,
            "ticks": "outside"
           },
           "bgcolor": "white",
           "radialaxis": {
            "gridcolor": "rgb(232,232,232)",
            "linecolor": "rgb(36,36,36)",
            "showgrid": false,
            "showline": true,
            "ticks": "outside"
           }
          },
          "scene": {
           "xaxis": {
            "backgroundcolor": "white",
            "gridcolor": "rgb(232,232,232)",
            "gridwidth": 2,
            "linecolor": "rgb(36,36,36)",
            "showbackground": true,
            "showgrid": false,
            "showline": true,
            "ticks": "outside",
            "zeroline": false,
            "zerolinecolor": "rgb(36,36,36)"
           },
           "yaxis": {
            "backgroundcolor": "white",
            "gridcolor": "rgb(232,232,232)",
            "gridwidth": 2,
            "linecolor": "rgb(36,36,36)",
            "showbackground": true,
            "showgrid": false,
            "showline": true,
            "ticks": "outside",
            "zeroline": false,
            "zerolinecolor": "rgb(36,36,36)"
           },
           "zaxis": {
            "backgroundcolor": "white",
            "gridcolor": "rgb(232,232,232)",
            "gridwidth": 2,
            "linecolor": "rgb(36,36,36)",
            "showbackground": true,
            "showgrid": false,
            "showline": true,
            "ticks": "outside",
            "zeroline": false,
            "zerolinecolor": "rgb(36,36,36)"
           }
          },
          "shapedefaults": {
           "fillcolor": "black",
           "line": {
            "width": 0
           },
           "opacity": 0.3
          },
          "ternary": {
           "aaxis": {
            "gridcolor": "rgb(232,232,232)",
            "linecolor": "rgb(36,36,36)",
            "showgrid": false,
            "showline": true,
            "ticks": "outside"
           },
           "baxis": {
            "gridcolor": "rgb(232,232,232)",
            "linecolor": "rgb(36,36,36)",
            "showgrid": false,
            "showline": true,
            "ticks": "outside"
           },
           "bgcolor": "white",
           "caxis": {
            "gridcolor": "rgb(232,232,232)",
            "linecolor": "rgb(36,36,36)",
            "showgrid": false,
            "showline": true,
            "ticks": "outside"
           }
          },
          "title": {
           "x": 0.05
          },
          "xaxis": {
           "automargin": true,
           "gridcolor": "rgb(232,232,232)",
           "linecolor": "rgb(36,36,36)",
           "showgrid": false,
           "showline": true,
           "ticks": "outside",
           "title": {
            "standoff": 15
           },
           "zeroline": false,
           "zerolinecolor": "rgb(36,36,36)"
          },
          "yaxis": {
           "automargin": true,
           "gridcolor": "rgb(232,232,232)",
           "linecolor": "rgb(36,36,36)",
           "showgrid": false,
           "showline": true,
           "ticks": "outside",
           "title": {
            "standoff": 15
           },
           "zeroline": false,
           "zerolinecolor": "rgb(36,36,36)"
          }
         }
        },
        "title": {
         "font": {
          "size": 24
         },
         "text": "Efficiency analysis"
        },
        "width": 1000,
        "xaxis": {
         "anchor": "y",
         "domain": [
          0,
          0.49
         ],
         "title": {
          "text": "ALGOS"
         }
        },
        "xaxis2": {
         "anchor": "y2",
         "domain": [
          0.51,
          1
         ],
         "matches": "x",
         "title": {
          "text": "ALGOS"
         }
        },
        "xaxis3": {
         "anchor": "y3",
         "domain": [
          0,
          0.49
         ],
         "matches": "x",
         "showticklabels": false
        },
        "xaxis4": {
         "anchor": "y4",
         "domain": [
          0.51,
          1
         ],
         "matches": "x",
         "showticklabels": false
        },
        "xaxis5": {
         "anchor": "y5",
         "domain": [
          0,
          0.49
         ],
         "matches": "x",
         "showticklabels": false
        },
        "xaxis6": {
         "anchor": "y6",
         "domain": [
          0.51,
          1
         ],
         "matches": "x",
         "showticklabels": false
        },
        "xaxis7": {
         "anchor": "y7",
         "domain": [
          0,
          0.49
         ],
         "matches": "x",
         "showticklabels": false
        },
        "xaxis8": {
         "anchor": "y8",
         "domain": [
          0.51,
          1
         ],
         "matches": "x",
         "showticklabels": false
        },
        "yaxis": {
         "anchor": "x",
         "domain": [
          0,
          0.1975
         ],
         "title": {
          "text": "percent of sum of value"
         }
        },
        "yaxis2": {
         "anchor": "x2",
         "domain": [
          0,
          0.1975
         ],
         "matches": "y",
         "showticklabels": false
        },
        "yaxis3": {
         "anchor": "x3",
         "domain": [
          0.2675,
          0.465
         ],
         "matches": "y",
         "title": {
          "text": "percent of sum of value"
         }
        },
        "yaxis4": {
         "anchor": "x4",
         "domain": [
          0.2675,
          0.465
         ],
         "matches": "y",
         "showticklabels": false
        },
        "yaxis5": {
         "anchor": "x5",
         "domain": [
          0.535,
          0.7325
         ],
         "matches": "y",
         "title": {
          "text": "percent of sum of value"
         }
        },
        "yaxis6": {
         "anchor": "x6",
         "domain": [
          0.535,
          0.7325
         ],
         "matches": "y",
         "showticklabels": false
        },
        "yaxis7": {
         "anchor": "x7",
         "domain": [
          0.8025,
          1
         ],
         "matches": "y",
         "title": {
          "text": "percent of sum of value"
         }
        },
        "yaxis8": {
         "anchor": "x8",
         "domain": [
          0.8025,
          1
         ],
         "matches": "y",
         "showticklabels": false
        }
       }
      }
     },
     "metadata": {},
     "output_type": "display_data"
    }
   ],
   "source": [
    "import pandas as pd\n",
    "import plotly.express as px\n",
    "import plotly.offline as offline\n",
    "\n",
    "report_df = pd.read_csv(\"result.csv\")\n",
    "\n",
    "fig = px.histogram(report_df, \n",
    "                    x=\"ALGOS\", \n",
    "                    y=[\"SPEED\",\"MAE\",\"WAPE\",\"MAPE\"], \n",
    "                    width=1000,\n",
    "                    height=800,\n",
    "                    color_discrete_map={\n",
    "                        \"SPEED\": \"RebeccaPurple\", \"MAE\": \"lightsalmon\"\n",
    "                        },\n",
    "                    # text_auto=True,\n",
    "                    title=\"SPEED\",\n",
    "                    template=\"simple_white\",\n",
    "                    facet_col=\"SOURCE\",\n",
    "                    facet_col_wrap = 2,\n",
    "                    histnorm = \"percent\"\n",
    "                    )\n",
    "\n",
    "fig.update_layout(title=\"Efficiency analysis\", \n",
    "                font_family=\"San Serif\",\n",
    "                bargap=0.2,\n",
    "                barmode='group',\n",
    "                titlefont={'size': 24},\n",
    "                legend=dict(\n",
    "                orientation=\"v\", y=1, yanchor=\"top\", x=1.25, xanchor=\"right\")                \n",
    "                )\n",
    "\n",
    "fig.show()"
   ]
  },
  {
   "cell_type": "code",
   "execution_count": 38,
   "metadata": {},
   "outputs": [
    {
     "data": {
      "application/vnd.plotly.v1+json": {
       "config": {
        "plotlyServerURL": "https://plot.ly"
       },
       "data": [
        {
         "hovertemplate": "ALGOS=Linear<br>SPEED=%{r}<br>SOURCE=%{theta}<extra></extra>",
         "legendgroup": "Linear",
         "line": {
          "color": "#636efa",
          "dash": "solid"
         },
         "marker": {
          "symbol": "circle"
         },
         "mode": "lines",
         "name": "Linear",
         "r": [
          12.53,
          0.24,
          2.56,
          0.55,
          2.31,
          0.56,
          2.33,
          1.11,
          12.53
         ],
         "showlegend": true,
         "subplot": "polar",
         "theta": [
          "Electricity",
          "ExchangeRate",
          "Weather",
          "ETTh1",
          "ETTm1",
          "ETTh2",
          "ETTm2",
          "BeijingAirQuality",
          "Electricity"
         ],
         "type": "scatterpolar"
        },
        {
         "hovertemplate": "ALGOS=DLinear<br>SPEED=%{r}<br>SOURCE=%{theta}<extra></extra>",
         "legendgroup": "DLinear",
         "line": {
          "color": "#EF553B",
          "dash": "solid"
         },
         "marker": {
          "symbol": "circle"
         },
         "mode": "lines",
         "name": "DLinear",
         "r": [
          9.19,
          0.25,
          2.7,
          0.59,
          2.45,
          0.59,
          2.48,
          1.14,
          9.19
         ],
         "showlegend": true,
         "subplot": "polar",
         "theta": [
          "Electricity",
          "ExchangeRate",
          "Weather",
          "ETTh1",
          "ETTm1",
          "ETTh2",
          "ETTm2",
          "BeijingAirQuality",
          "Electricity"
         ],
         "type": "scatterpolar"
        },
        {
         "hovertemplate": "ALGOS=NLinear<br>SPEED=%{r}<br>SOURCE=%{theta}<extra></extra>",
         "legendgroup": "NLinear",
         "line": {
          "color": "#00cc96",
          "dash": "solid"
         },
         "marker": {
          "symbol": "circle"
         },
         "mode": "lines",
         "name": "NLinear",
         "r": [
          8.28,
          0.25,
          2.73,
          0.6,
          2.33,
          0.57,
          2.29,
          1.1,
          8.28
         ],
         "showlegend": true,
         "subplot": "polar",
         "theta": [
          "Electricity",
          "ExchangeRate",
          "Weather",
          "ETTh1",
          "ETTm1",
          "ETTh2",
          "ETTm2",
          "BeijingAirQuality",
          "Electricity"
         ],
         "type": "scatterpolar"
        },
        {
         "hovertemplate": "ALGOS=PatchTST<br>SPEED=%{r}<br>SOURCE=%{theta}<extra></extra>",
         "legendgroup": "PatchTST",
         "line": {
          "color": "#ab63fa",
          "dash": "solid"
         },
         "marker": {
          "symbol": "circle"
         },
         "mode": "lines",
         "name": "PatchTST",
         "r": [
          32.05,
          0.44,
          5.92,
          0.97,
          4.01,
          0.97,
          4.01,
          1.97,
          32.05
         ],
         "showlegend": true,
         "subplot": "polar",
         "theta": [
          "Electricity",
          "ExchangeRate",
          "Weather",
          "ETTh1",
          "ETTm1",
          "ETTh2",
          "ETTm2",
          "BeijingAirQuality",
          "Electricity"
         ],
         "type": "scatterpolar"
        },
        {
         "hovertemplate": "ALGOS=NHiTS<br>SPEED=%{r}<br>SOURCE=%{theta}<extra></extra>",
         "legendgroup": "NHiTS",
         "line": {
          "color": "#FFA15A",
          "dash": "solid"
         },
         "marker": {
          "symbol": "circle"
         },
         "mode": "lines",
         "name": "NHiTS",
         "r": [
          10.56,
          0.3,
          3.05,
          0.7,
          2.88,
          0.67,
          2.78,
          1.37,
          10.56
         ],
         "showlegend": true,
         "subplot": "polar",
         "theta": [
          "Electricity",
          "ExchangeRate",
          "Weather",
          "ETTh1",
          "ETTm1",
          "ETTh2",
          "ETTm2",
          "BeijingAirQuality",
          "Electricity"
         ],
         "type": "scatterpolar"
        },
        {
         "hovertemplate": "ALGOS=NBEATS<br>SPEED=%{r}<br>SOURCE=%{theta}<extra></extra>",
         "legendgroup": "NBEATS",
         "line": {
          "color": "#19d3f3",
          "dash": "solid"
         },
         "marker": {
          "symbol": "circle"
         },
         "mode": "lines",
         "name": "NBEATS",
         "r": [
          9.12,
          0.56,
          4.84,
          1.32,
          5.37,
          1.3,
          5.36,
          2.05,
          9.12
         ],
         "showlegend": true,
         "subplot": "polar",
         "theta": [
          "Electricity",
          "ExchangeRate",
          "Weather",
          "ETTh1",
          "ETTm1",
          "ETTh2",
          "ETTm2",
          "BeijingAirQuality",
          "Electricity"
         ],
         "type": "scatterpolar"
        },
        {
         "hovertemplate": "ALGOS=Informer<br>SPEED=%{r}<br>SOURCE=%{theta}<extra></extra>",
         "legendgroup": "Informer",
         "line": {
          "color": "#FF6692",
          "dash": "solid"
         },
         "marker": {
          "symbol": "circle"
         },
         "mode": "lines",
         "name": "Informer",
         "r": [
          13.87,
          1.29,
          10.51,
          3.12,
          12.91,
          3.12,
          12.88,
          6.52,
          13.87
         ],
         "showlegend": true,
         "subplot": "polar",
         "theta": [
          "Electricity",
          "ExchangeRate",
          "Weather",
          "ETTh1",
          "ETTm1",
          "ETTh2",
          "ETTm2",
          "BeijingAirQuality",
          "Electricity"
         ],
         "type": "scatterpolar"
        },
        {
         "hovertemplate": "ALGOS=Pyraformer<br>SPEED=%{r}<br>SOURCE=%{theta}<extra></extra>",
         "legendgroup": "Pyraformer",
         "line": {
          "color": "#B6E880",
          "dash": "solid"
         },
         "marker": {
          "symbol": "circle"
         },
         "mode": "lines",
         "name": "Pyraformer",
         "r": [
          19.99,
          3.33,
          25.45,
          7.95,
          32.63,
          7.99,
          32.83,
          16.76,
          19.99
         ],
         "showlegend": true,
         "subplot": "polar",
         "theta": [
          "Electricity",
          "ExchangeRate",
          "Weather",
          "ETTh1",
          "ETTm1",
          "ETTh2",
          "ETTm2",
          "BeijingAirQuality",
          "Electricity"
         ],
         "type": "scatterpolar"
        },
        {
         "hovertemplate": "ALGOS=Crossformer<br>SPEED=%{r}<br>SOURCE=%{theta}<extra></extra>",
         "legendgroup": "Crossformer",
         "line": {
          "color": "#FF97FF",
          "dash": "solid"
         },
         "marker": {
          "symbol": "circle"
         },
         "mode": "lines",
         "name": "Crossformer",
         "r": [
          18.09,
          0.99,
          7.98,
          2.34,
          9.73,
          2.35,
          9.59,
          4.84,
          18.09
         ],
         "showlegend": true,
         "subplot": "polar",
         "theta": [
          "Electricity",
          "ExchangeRate",
          "Weather",
          "ETTh1",
          "ETTm1",
          "ETTh2",
          "ETTm2",
          "BeijingAirQuality",
          "Electricity"
         ],
         "type": "scatterpolar"
        },
        {
         "hovertemplate": "ALGOS=LSTNet<br>SPEED=%{r}<br>SOURCE=%{theta}<extra></extra>",
         "legendgroup": "LSTNet",
         "line": {
          "color": "#FECB52",
          "dash": "solid"
         },
         "marker": {
          "symbol": "circle"
         },
         "mode": "lines",
         "name": "LSTNet",
         "r": [
          8.45,
          0.27,
          2.78,
          0.65,
          2.64,
          0.64,
          2.65,
          1.29,
          8.45
         ],
         "showlegend": true,
         "subplot": "polar",
         "theta": [
          "Electricity",
          "ExchangeRate",
          "Weather",
          "ETTh1",
          "ETTm1",
          "ETTh2",
          "ETTm2",
          "BeijingAirQuality",
          "Electricity"
         ],
         "type": "scatterpolar"
        },
        {
         "hovertemplate": "ALGOS=FEDformer<br>SPEED=%{r}<br>SOURCE=%{theta}<extra></extra>",
         "legendgroup": "FEDformer",
         "line": {
          "color": "#636efa",
          "dash": "solid"
         },
         "marker": {
          "symbol": "circle"
         },
         "mode": "lines",
         "name": "FEDformer",
         "r": [
          13.3,
          1.47,
          11.7,
          3.51,
          14.45,
          3.63,
          16.11,
          7.89,
          13.3
         ],
         "showlegend": true,
         "subplot": "polar",
         "theta": [
          "Electricity",
          "ExchangeRate",
          "Weather",
          "ETTh1",
          "ETTm1",
          "ETTh2",
          "ETTm2",
          "BeijingAirQuality",
          "Electricity"
         ],
         "type": "scatterpolar"
        },
        {
         "hovertemplate": "ALGOS=Autoformer<br>SPEED=%{r}<br>SOURCE=%{theta}<extra></extra>",
         "legendgroup": "Autoformer",
         "line": {
          "color": "#EF553B",
          "dash": "solid"
         },
         "marker": {
          "symbol": "circle"
         },
         "mode": "lines",
         "name": "Autoformer",
         "r": [
          34.29,
          7.24,
          54.98,
          17.44,
          71.75,
          17.22,
          65.4,
          37.45,
          34.29
         ],
         "showlegend": true,
         "subplot": "polar",
         "theta": [
          "Electricity",
          "ExchangeRate",
          "Weather",
          "ETTh1",
          "ETTm1",
          "ETTh2",
          "ETTm2",
          "BeijingAirQuality",
          "Electricity"
         ],
         "type": "scatterpolar"
        }
       ],
       "layout": {
        "height": 600,
        "legend": {
         "title": {
          "text": "ALGOS"
         },
         "tracegroupgap": 0
        },
        "margin": {
         "t": 60
        },
        "polar": {
         "angularaxis": {
          "direction": "clockwise",
          "rotation": 90
         },
         "domain": {
          "x": [
           0,
           1
          ],
          "y": [
           0,
           1
          ]
         }
        },
        "template": {
         "data": {
          "bar": [
           {
            "error_x": {
             "color": "#2a3f5f"
            },
            "error_y": {
             "color": "#2a3f5f"
            },
            "marker": {
             "line": {
              "color": "#E5ECF6",
              "width": 0.5
             },
             "pattern": {
              "fillmode": "overlay",
              "size": 10,
              "solidity": 0.2
             }
            },
            "type": "bar"
           }
          ],
          "barpolar": [
           {
            "marker": {
             "line": {
              "color": "#E5ECF6",
              "width": 0.5
             },
             "pattern": {
              "fillmode": "overlay",
              "size": 10,
              "solidity": 0.2
             }
            },
            "type": "barpolar"
           }
          ],
          "carpet": [
           {
            "aaxis": {
             "endlinecolor": "#2a3f5f",
             "gridcolor": "white",
             "linecolor": "white",
             "minorgridcolor": "white",
             "startlinecolor": "#2a3f5f"
            },
            "baxis": {
             "endlinecolor": "#2a3f5f",
             "gridcolor": "white",
             "linecolor": "white",
             "minorgridcolor": "white",
             "startlinecolor": "#2a3f5f"
            },
            "type": "carpet"
           }
          ],
          "choropleth": [
           {
            "colorbar": {
             "outlinewidth": 0,
             "ticks": ""
            },
            "type": "choropleth"
           }
          ],
          "contour": [
           {
            "colorbar": {
             "outlinewidth": 0,
             "ticks": ""
            },
            "colorscale": [
             [
              0,
              "#0d0887"
             ],
             [
              0.1111111111111111,
              "#46039f"
             ],
             [
              0.2222222222222222,
              "#7201a8"
             ],
             [
              0.3333333333333333,
              "#9c179e"
             ],
             [
              0.4444444444444444,
              "#bd3786"
             ],
             [
              0.5555555555555556,
              "#d8576b"
             ],
             [
              0.6666666666666666,
              "#ed7953"
             ],
             [
              0.7777777777777778,
              "#fb9f3a"
             ],
             [
              0.8888888888888888,
              "#fdca26"
             ],
             [
              1,
              "#f0f921"
             ]
            ],
            "type": "contour"
           }
          ],
          "contourcarpet": [
           {
            "colorbar": {
             "outlinewidth": 0,
             "ticks": ""
            },
            "type": "contourcarpet"
           }
          ],
          "heatmap": [
           {
            "colorbar": {
             "outlinewidth": 0,
             "ticks": ""
            },
            "colorscale": [
             [
              0,
              "#0d0887"
             ],
             [
              0.1111111111111111,
              "#46039f"
             ],
             [
              0.2222222222222222,
              "#7201a8"
             ],
             [
              0.3333333333333333,
              "#9c179e"
             ],
             [
              0.4444444444444444,
              "#bd3786"
             ],
             [
              0.5555555555555556,
              "#d8576b"
             ],
             [
              0.6666666666666666,
              "#ed7953"
             ],
             [
              0.7777777777777778,
              "#fb9f3a"
             ],
             [
              0.8888888888888888,
              "#fdca26"
             ],
             [
              1,
              "#f0f921"
             ]
            ],
            "type": "heatmap"
           }
          ],
          "heatmapgl": [
           {
            "colorbar": {
             "outlinewidth": 0,
             "ticks": ""
            },
            "colorscale": [
             [
              0,
              "#0d0887"
             ],
             [
              0.1111111111111111,
              "#46039f"
             ],
             [
              0.2222222222222222,
              "#7201a8"
             ],
             [
              0.3333333333333333,
              "#9c179e"
             ],
             [
              0.4444444444444444,
              "#bd3786"
             ],
             [
              0.5555555555555556,
              "#d8576b"
             ],
             [
              0.6666666666666666,
              "#ed7953"
             ],
             [
              0.7777777777777778,
              "#fb9f3a"
             ],
             [
              0.8888888888888888,
              "#fdca26"
             ],
             [
              1,
              "#f0f921"
             ]
            ],
            "type": "heatmapgl"
           }
          ],
          "histogram": [
           {
            "marker": {
             "pattern": {
              "fillmode": "overlay",
              "size": 10,
              "solidity": 0.2
             }
            },
            "type": "histogram"
           }
          ],
          "histogram2d": [
           {
            "colorbar": {
             "outlinewidth": 0,
             "ticks": ""
            },
            "colorscale": [
             [
              0,
              "#0d0887"
             ],
             [
              0.1111111111111111,
              "#46039f"
             ],
             [
              0.2222222222222222,
              "#7201a8"
             ],
             [
              0.3333333333333333,
              "#9c179e"
             ],
             [
              0.4444444444444444,
              "#bd3786"
             ],
             [
              0.5555555555555556,
              "#d8576b"
             ],
             [
              0.6666666666666666,
              "#ed7953"
             ],
             [
              0.7777777777777778,
              "#fb9f3a"
             ],
             [
              0.8888888888888888,
              "#fdca26"
             ],
             [
              1,
              "#f0f921"
             ]
            ],
            "type": "histogram2d"
           }
          ],
          "histogram2dcontour": [
           {
            "colorbar": {
             "outlinewidth": 0,
             "ticks": ""
            },
            "colorscale": [
             [
              0,
              "#0d0887"
             ],
             [
              0.1111111111111111,
              "#46039f"
             ],
             [
              0.2222222222222222,
              "#7201a8"
             ],
             [
              0.3333333333333333,
              "#9c179e"
             ],
             [
              0.4444444444444444,
              "#bd3786"
             ],
             [
              0.5555555555555556,
              "#d8576b"
             ],
             [
              0.6666666666666666,
              "#ed7953"
             ],
             [
              0.7777777777777778,
              "#fb9f3a"
             ],
             [
              0.8888888888888888,
              "#fdca26"
             ],
             [
              1,
              "#f0f921"
             ]
            ],
            "type": "histogram2dcontour"
           }
          ],
          "mesh3d": [
           {
            "colorbar": {
             "outlinewidth": 0,
             "ticks": ""
            },
            "type": "mesh3d"
           }
          ],
          "parcoords": [
           {
            "line": {
             "colorbar": {
              "outlinewidth": 0,
              "ticks": ""
             }
            },
            "type": "parcoords"
           }
          ],
          "pie": [
           {
            "automargin": true,
            "type": "pie"
           }
          ],
          "scatter": [
           {
            "fillpattern": {
             "fillmode": "overlay",
             "size": 10,
             "solidity": 0.2
            },
            "type": "scatter"
           }
          ],
          "scatter3d": [
           {
            "line": {
             "colorbar": {
              "outlinewidth": 0,
              "ticks": ""
             }
            },
            "marker": {
             "colorbar": {
              "outlinewidth": 0,
              "ticks": ""
             }
            },
            "type": "scatter3d"
           }
          ],
          "scattercarpet": [
           {
            "marker": {
             "colorbar": {
              "outlinewidth": 0,
              "ticks": ""
             }
            },
            "type": "scattercarpet"
           }
          ],
          "scattergeo": [
           {
            "marker": {
             "colorbar": {
              "outlinewidth": 0,
              "ticks": ""
             }
            },
            "type": "scattergeo"
           }
          ],
          "scattergl": [
           {
            "marker": {
             "colorbar": {
              "outlinewidth": 0,
              "ticks": ""
             }
            },
            "type": "scattergl"
           }
          ],
          "scattermapbox": [
           {
            "marker": {
             "colorbar": {
              "outlinewidth": 0,
              "ticks": ""
             }
            },
            "type": "scattermapbox"
           }
          ],
          "scatterpolar": [
           {
            "marker": {
             "colorbar": {
              "outlinewidth": 0,
              "ticks": ""
             }
            },
            "type": "scatterpolar"
           }
          ],
          "scatterpolargl": [
           {
            "marker": {
             "colorbar": {
              "outlinewidth": 0,
              "ticks": ""
             }
            },
            "type": "scatterpolargl"
           }
          ],
          "scatterternary": [
           {
            "marker": {
             "colorbar": {
              "outlinewidth": 0,
              "ticks": ""
             }
            },
            "type": "scatterternary"
           }
          ],
          "surface": [
           {
            "colorbar": {
             "outlinewidth": 0,
             "ticks": ""
            },
            "colorscale": [
             [
              0,
              "#0d0887"
             ],
             [
              0.1111111111111111,
              "#46039f"
             ],
             [
              0.2222222222222222,
              "#7201a8"
             ],
             [
              0.3333333333333333,
              "#9c179e"
             ],
             [
              0.4444444444444444,
              "#bd3786"
             ],
             [
              0.5555555555555556,
              "#d8576b"
             ],
             [
              0.6666666666666666,
              "#ed7953"
             ],
             [
              0.7777777777777778,
              "#fb9f3a"
             ],
             [
              0.8888888888888888,
              "#fdca26"
             ],
             [
              1,
              "#f0f921"
             ]
            ],
            "type": "surface"
           }
          ],
          "table": [
           {
            "cells": {
             "fill": {
              "color": "#EBF0F8"
             },
             "line": {
              "color": "white"
             }
            },
            "header": {
             "fill": {
              "color": "#C8D4E3"
             },
             "line": {
              "color": "white"
             }
            },
            "type": "table"
           }
          ]
         },
         "layout": {
          "annotationdefaults": {
           "arrowcolor": "#2a3f5f",
           "arrowhead": 0,
           "arrowwidth": 1
          },
          "autotypenumbers": "strict",
          "coloraxis": {
           "colorbar": {
            "outlinewidth": 0,
            "ticks": ""
           }
          },
          "colorscale": {
           "diverging": [
            [
             0,
             "#8e0152"
            ],
            [
             0.1,
             "#c51b7d"
            ],
            [
             0.2,
             "#de77ae"
            ],
            [
             0.3,
             "#f1b6da"
            ],
            [
             0.4,
             "#fde0ef"
            ],
            [
             0.5,
             "#f7f7f7"
            ],
            [
             0.6,
             "#e6f5d0"
            ],
            [
             0.7,
             "#b8e186"
            ],
            [
             0.8,
             "#7fbc41"
            ],
            [
             0.9,
             "#4d9221"
            ],
            [
             1,
             "#276419"
            ]
           ],
           "sequential": [
            [
             0,
             "#0d0887"
            ],
            [
             0.1111111111111111,
             "#46039f"
            ],
            [
             0.2222222222222222,
             "#7201a8"
            ],
            [
             0.3333333333333333,
             "#9c179e"
            ],
            [
             0.4444444444444444,
             "#bd3786"
            ],
            [
             0.5555555555555556,
             "#d8576b"
            ],
            [
             0.6666666666666666,
             "#ed7953"
            ],
            [
             0.7777777777777778,
             "#fb9f3a"
            ],
            [
             0.8888888888888888,
             "#fdca26"
            ],
            [
             1,
             "#f0f921"
            ]
           ],
           "sequentialminus": [
            [
             0,
             "#0d0887"
            ],
            [
             0.1111111111111111,
             "#46039f"
            ],
            [
             0.2222222222222222,
             "#7201a8"
            ],
            [
             0.3333333333333333,
             "#9c179e"
            ],
            [
             0.4444444444444444,
             "#bd3786"
            ],
            [
             0.5555555555555556,
             "#d8576b"
            ],
            [
             0.6666666666666666,
             "#ed7953"
            ],
            [
             0.7777777777777778,
             "#fb9f3a"
            ],
            [
             0.8888888888888888,
             "#fdca26"
            ],
            [
             1,
             "#f0f921"
            ]
           ]
          },
          "colorway": [
           "#636efa",
           "#EF553B",
           "#00cc96",
           "#ab63fa",
           "#FFA15A",
           "#19d3f3",
           "#FF6692",
           "#B6E880",
           "#FF97FF",
           "#FECB52"
          ],
          "font": {
           "color": "#2a3f5f"
          },
          "geo": {
           "bgcolor": "white",
           "lakecolor": "white",
           "landcolor": "#E5ECF6",
           "showlakes": true,
           "showland": true,
           "subunitcolor": "white"
          },
          "hoverlabel": {
           "align": "left"
          },
          "hovermode": "closest",
          "mapbox": {
           "style": "light"
          },
          "paper_bgcolor": "white",
          "plot_bgcolor": "#E5ECF6",
          "polar": {
           "angularaxis": {
            "gridcolor": "white",
            "linecolor": "white",
            "ticks": ""
           },
           "bgcolor": "#E5ECF6",
           "radialaxis": {
            "gridcolor": "white",
            "linecolor": "white",
            "ticks": ""
           }
          },
          "scene": {
           "xaxis": {
            "backgroundcolor": "#E5ECF6",
            "gridcolor": "white",
            "gridwidth": 2,
            "linecolor": "white",
            "showbackground": true,
            "ticks": "",
            "zerolinecolor": "white"
           },
           "yaxis": {
            "backgroundcolor": "#E5ECF6",
            "gridcolor": "white",
            "gridwidth": 2,
            "linecolor": "white",
            "showbackground": true,
            "ticks": "",
            "zerolinecolor": "white"
           },
           "zaxis": {
            "backgroundcolor": "#E5ECF6",
            "gridcolor": "white",
            "gridwidth": 2,
            "linecolor": "white",
            "showbackground": true,
            "ticks": "",
            "zerolinecolor": "white"
           }
          },
          "shapedefaults": {
           "line": {
            "color": "#2a3f5f"
           }
          },
          "ternary": {
           "aaxis": {
            "gridcolor": "white",
            "linecolor": "white",
            "ticks": ""
           },
           "baxis": {
            "gridcolor": "white",
            "linecolor": "white",
            "ticks": ""
           },
           "bgcolor": "#E5ECF6",
           "caxis": {
            "gridcolor": "white",
            "linecolor": "white",
            "ticks": ""
           }
          },
          "title": {
           "x": 0.05
          },
          "xaxis": {
           "automargin": true,
           "gridcolor": "white",
           "linecolor": "white",
           "ticks": "",
           "title": {
            "standoff": 15
           },
           "zerolinecolor": "white",
           "zerolinewidth": 2
          },
          "yaxis": {
           "automargin": true,
           "gridcolor": "white",
           "linecolor": "white",
           "ticks": "",
           "title": {
            "standoff": 15
           },
           "zerolinecolor": "white",
           "zerolinewidth": 2
          }
         }
        },
        "width": 600
       }
      }
     },
     "metadata": {},
     "output_type": "display_data"
    }
   ],
   "source": [
    "fig = px.line_polar(report_df, r='SPEED', theta='SOURCE', color=\"ALGOS\",\n",
    "                    line_close=True,\n",
    "                    width=600,\n",
    "                    height=600,)\n",
    "\n",
    "fig.show()"
   ]
  },
  {
   "cell_type": "code",
   "execution_count": 33,
   "metadata": {},
   "outputs": [
    {
     "data": {
      "application/vnd.plotly.v1+json": {
       "config": {
        "plotlyServerURL": "https://plot.ly"
       },
       "data": [
        {
         "alignmentgroup": "True",
         "bingroup": "x",
         "histfunc": "sum",
         "histnorm": "percent",
         "hovertemplate": "variable=SPEED<br>SOURCE=Electricity<br>ALGOS=%{x}<br>percent of sum of value=%{y}<extra></extra>",
         "legendgroup": "SPEED",
         "marker": {
          "color": "RebeccaPurple",
          "pattern": {
           "shape": ""
          }
         },
         "name": "SPEED",
         "offsetgroup": "SPEED",
         "orientation": "v",
         "showlegend": true,
         "type": "histogram",
         "x": [
          "Linear",
          "DLinear",
          "NLinear",
          "PatchTST",
          "NHiTS",
          "NBEATS",
          "Informer",
          "Pyraformer",
          "Crossformer",
          "LSTNet",
          "FEDformer",
          "Autoformer"
         ],
         "xaxis": "x",
         "y": [
          12.53,
          9.19,
          8.28,
          32.05,
          10.56,
          9.12,
          13.87,
          19.99,
          18.09,
          8.45,
          13.3,
          34.29
         ],
         "yaxis": "y"
        },
        {
         "alignmentgroup": "True",
         "bingroup": "x",
         "histfunc": "sum",
         "histnorm": "percent",
         "hovertemplate": "variable=SPEED<br>SOURCE=ExchangeRate<br>ALGOS=%{x}<br>percent of sum of value=%{y}<extra></extra>",
         "legendgroup": "SPEED",
         "marker": {
          "color": "RebeccaPurple",
          "pattern": {
           "shape": ""
          }
         },
         "name": "SPEED",
         "offsetgroup": "SPEED",
         "orientation": "v",
         "showlegend": false,
         "type": "histogram",
         "x": [
          "Linear",
          "DLinear",
          "NLinear",
          "PatchTST",
          "NHiTS",
          "NBEATS",
          "Informer",
          "Pyraformer",
          "Crossformer",
          "LSTNet",
          "FEDformer",
          "Autoformer"
         ],
         "xaxis": "x2",
         "y": [
          0.24,
          0.25,
          0.25,
          0.44,
          0.3,
          0.56,
          1.29,
          3.33,
          0.99,
          0.27,
          1.47,
          7.24
         ],
         "yaxis": "y2"
        },
        {
         "alignmentgroup": "True",
         "bingroup": "x",
         "histfunc": "sum",
         "histnorm": "percent",
         "hovertemplate": "variable=MAE<br>SOURCE=Electricity<br>ALGOS=%{x}<br>percent of sum of value=%{y}<extra></extra>",
         "legendgroup": "MAE",
         "marker": {
          "color": "lightsalmon",
          "pattern": {
           "shape": ""
          }
         },
         "name": "MAE",
         "offsetgroup": "MAE",
         "orientation": "v",
         "showlegend": true,
         "type": "histogram",
         "x": [
          "Linear",
          "DLinear",
          "NLinear",
          "PatchTST",
          "NHiTS",
          "NBEATS",
          "Informer",
          "Pyraformer",
          "Crossformer",
          "LSTNet",
          "FEDformer",
          "Autoformer"
         ],
         "xaxis": "x",
         "y": [
          296.928,
          306.215,
          266.611,
          260.523,
          275.297,
          1057.228,
          960.096,
          1039.721,
          407.41,
          2779.57,
          339.825,
          644.452
         ],
         "yaxis": "y"
        },
        {
         "alignmentgroup": "True",
         "bingroup": "x",
         "histfunc": "sum",
         "histnorm": "percent",
         "hovertemplate": "variable=MAE<br>SOURCE=ExchangeRate<br>ALGOS=%{x}<br>percent of sum of value=%{y}<extra></extra>",
         "legendgroup": "MAE",
         "marker": {
          "color": "lightsalmon",
          "pattern": {
           "shape": ""
          }
         },
         "name": "MAE",
         "offsetgroup": "MAE",
         "orientation": "v",
         "showlegend": false,
         "type": "histogram",
         "x": [
          "Linear",
          "DLinear",
          "NLinear",
          "PatchTST",
          "NHiTS",
          "NBEATS",
          "Informer",
          "Pyraformer",
          "Crossformer",
          "LSTNet",
          "FEDformer",
          "Autoformer"
         ],
         "xaxis": "x2",
         "y": [
          0.045,
          0.044,
          0.033,
          0.035,
          0.032,
          0.085,
          0.092,
          0.1,
          0.042,
          0.291,
          0.048,
          0.048
         ],
         "yaxis": "y2"
        },
        {
         "alignmentgroup": "True",
         "bingroup": "x",
         "histfunc": "sum",
         "histnorm": "percent",
         "hovertemplate": "variable=WAPE<br>SOURCE=Electricity<br>ALGOS=%{x}<br>percent of sum of value=%{y}<extra></extra>",
         "legendgroup": "WAPE",
         "marker": {
          "color": "#2CA02C",
          "pattern": {
           "shape": ""
          }
         },
         "name": "WAPE",
         "offsetgroup": "WAPE",
         "orientation": "v",
         "showlegend": true,
         "type": "histogram",
         "x": [
          "Linear",
          "DLinear",
          "NLinear",
          "PatchTST",
          "NHiTS",
          "NBEATS",
          "Informer",
          "Pyraformer",
          "Crossformer",
          "LSTNet",
          "FEDformer",
          "Autoformer"
         ],
         "xaxis": "x",
         "y": [
          0.112,
          0.115,
          0.1,
          0.098,
          0.103,
          0.391,
          0.356,
          0.385,
          0.153,
          1.05,
          0.129,
          0.231
         ],
         "yaxis": "y"
        },
        {
         "alignmentgroup": "True",
         "bingroup": "x",
         "histfunc": "sum",
         "histnorm": "percent",
         "hovertemplate": "variable=WAPE<br>SOURCE=ExchangeRate<br>ALGOS=%{x}<br>percent of sum of value=%{y}<extra></extra>",
         "legendgroup": "WAPE",
         "marker": {
          "color": "#2CA02C",
          "pattern": {
           "shape": ""
          }
         },
         "name": "WAPE",
         "offsetgroup": "WAPE",
         "orientation": "v",
         "showlegend": false,
         "type": "histogram",
         "x": [
          "Linear",
          "DLinear",
          "NLinear",
          "PatchTST",
          "NHiTS",
          "NBEATS",
          "Informer",
          "Pyraformer",
          "Crossformer",
          "LSTNet",
          "FEDformer",
          "Autoformer"
         ],
         "xaxis": "x2",
         "y": [
          0.06,
          0.059,
          0.044,
          0.047,
          0.043,
          0.114,
          0.122,
          0.13,
          0.056,
          0.382,
          0.065,
          0.064
         ],
         "yaxis": "y2"
        },
        {
         "alignmentgroup": "True",
         "bingroup": "x",
         "histfunc": "sum",
         "histnorm": "percent",
         "hovertemplate": "variable=MAPE<br>SOURCE=Electricity<br>ALGOS=%{x}<br>percent of sum of value=%{y}<extra></extra>",
         "legendgroup": "MAPE",
         "marker": {
          "color": "#D62728",
          "pattern": {
           "shape": ""
          }
         },
         "name": "MAPE",
         "offsetgroup": "MAPE",
         "orientation": "v",
         "showlegend": true,
         "type": "histogram",
         "x": [
          "Linear",
          "DLinear",
          "NLinear",
          "PatchTST",
          "NHiTS",
          "NBEATS",
          "Informer",
          "Pyraformer",
          "Crossformer",
          "LSTNet",
          "FEDformer",
          "Autoformer"
         ],
         "xaxis": "x",
         "y": [
          0.421,
          0.421,
          0.147,
          0.15,
          0.187,
          0.889,
          0.535,
          0.55,
          0.635,
          11.616,
          0.261,
          0.472
         ],
         "yaxis": "y"
        },
        {
         "alignmentgroup": "True",
         "bingroup": "x",
         "histfunc": "sum",
         "histnorm": "percent",
         "hovertemplate": "variable=MAPE<br>SOURCE=ExchangeRate<br>ALGOS=%{x}<br>percent of sum of value=%{y}<extra></extra>",
         "legendgroup": "MAPE",
         "marker": {
          "color": "#D62728",
          "pattern": {
           "shape": ""
          }
         },
         "name": "MAPE",
         "offsetgroup": "MAPE",
         "orientation": "v",
         "showlegend": false,
         "type": "histogram",
         "x": [
          "Linear",
          "DLinear",
          "NLinear",
          "PatchTST",
          "NHiTS",
          "NBEATS",
          "Informer",
          "Pyraformer",
          "Crossformer",
          "LSTNet",
          "FEDformer",
          "Autoformer"
         ],
         "xaxis": "x2",
         "y": [
          0.465,
          0.47,
          0.051,
          0.051,
          0.051,
          0.313,
          0.191,
          0.185,
          0.173,
          9.149,
          0.088,
          0.077
         ],
         "yaxis": "y2"
        }
       ],
       "layout": {
        "annotations": [
         {
          "font": {},
          "showarrow": false,
          "text": "SOURCE=Electricity",
          "x": 0.245,
          "xanchor": "center",
          "xref": "paper",
          "y": 1,
          "yanchor": "bottom",
          "yref": "paper"
         },
         {
          "font": {},
          "showarrow": false,
          "text": "SOURCE=ExchangeRate",
          "x": 0.755,
          "xanchor": "center",
          "xref": "paper",
          "y": 1,
          "yanchor": "bottom",
          "yref": "paper"
         }
        ],
        "bargap": 0.2,
        "barmode": "group",
        "font": {
         "family": "San Serif"
        },
        "height": 300,
        "legend": {
         "orientation": "v",
         "title": {
          "text": "variable"
         },
         "tracegroupgap": 0,
         "x": 1.25,
         "xanchor": "right",
         "y": 1,
         "yanchor": "top"
        },
        "margin": {
         "t": 60
        },
        "template": {
         "data": {
          "bar": [
           {
            "error_x": {
             "color": "rgb(36,36,36)"
            },
            "error_y": {
             "color": "rgb(36,36,36)"
            },
            "marker": {
             "line": {
              "color": "white",
              "width": 0.5
             },
             "pattern": {
              "fillmode": "overlay",
              "size": 10,
              "solidity": 0.2
             }
            },
            "type": "bar"
           }
          ],
          "barpolar": [
           {
            "marker": {
             "line": {
              "color": "white",
              "width": 0.5
             },
             "pattern": {
              "fillmode": "overlay",
              "size": 10,
              "solidity": 0.2
             }
            },
            "type": "barpolar"
           }
          ],
          "carpet": [
           {
            "aaxis": {
             "endlinecolor": "rgb(36,36,36)",
             "gridcolor": "white",
             "linecolor": "white",
             "minorgridcolor": "white",
             "startlinecolor": "rgb(36,36,36)"
            },
            "baxis": {
             "endlinecolor": "rgb(36,36,36)",
             "gridcolor": "white",
             "linecolor": "white",
             "minorgridcolor": "white",
             "startlinecolor": "rgb(36,36,36)"
            },
            "type": "carpet"
           }
          ],
          "choropleth": [
           {
            "colorbar": {
             "outlinewidth": 1,
             "tickcolor": "rgb(36,36,36)",
             "ticks": "outside"
            },
            "type": "choropleth"
           }
          ],
          "contour": [
           {
            "colorbar": {
             "outlinewidth": 1,
             "tickcolor": "rgb(36,36,36)",
             "ticks": "outside"
            },
            "colorscale": [
             [
              0,
              "#440154"
             ],
             [
              0.1111111111111111,
              "#482878"
             ],
             [
              0.2222222222222222,
              "#3e4989"
             ],
             [
              0.3333333333333333,
              "#31688e"
             ],
             [
              0.4444444444444444,
              "#26828e"
             ],
             [
              0.5555555555555556,
              "#1f9e89"
             ],
             [
              0.6666666666666666,
              "#35b779"
             ],
             [
              0.7777777777777778,
              "#6ece58"
             ],
             [
              0.8888888888888888,
              "#b5de2b"
             ],
             [
              1,
              "#fde725"
             ]
            ],
            "type": "contour"
           }
          ],
          "contourcarpet": [
           {
            "colorbar": {
             "outlinewidth": 1,
             "tickcolor": "rgb(36,36,36)",
             "ticks": "outside"
            },
            "type": "contourcarpet"
           }
          ],
          "heatmap": [
           {
            "colorbar": {
             "outlinewidth": 1,
             "tickcolor": "rgb(36,36,36)",
             "ticks": "outside"
            },
            "colorscale": [
             [
              0,
              "#440154"
             ],
             [
              0.1111111111111111,
              "#482878"
             ],
             [
              0.2222222222222222,
              "#3e4989"
             ],
             [
              0.3333333333333333,
              "#31688e"
             ],
             [
              0.4444444444444444,
              "#26828e"
             ],
             [
              0.5555555555555556,
              "#1f9e89"
             ],
             [
              0.6666666666666666,
              "#35b779"
             ],
             [
              0.7777777777777778,
              "#6ece58"
             ],
             [
              0.8888888888888888,
              "#b5de2b"
             ],
             [
              1,
              "#fde725"
             ]
            ],
            "type": "heatmap"
           }
          ],
          "heatmapgl": [
           {
            "colorbar": {
             "outlinewidth": 1,
             "tickcolor": "rgb(36,36,36)",
             "ticks": "outside"
            },
            "colorscale": [
             [
              0,
              "#440154"
             ],
             [
              0.1111111111111111,
              "#482878"
             ],
             [
              0.2222222222222222,
              "#3e4989"
             ],
             [
              0.3333333333333333,
              "#31688e"
             ],
             [
              0.4444444444444444,
              "#26828e"
             ],
             [
              0.5555555555555556,
              "#1f9e89"
             ],
             [
              0.6666666666666666,
              "#35b779"
             ],
             [
              0.7777777777777778,
              "#6ece58"
             ],
             [
              0.8888888888888888,
              "#b5de2b"
             ],
             [
              1,
              "#fde725"
             ]
            ],
            "type": "heatmapgl"
           }
          ],
          "histogram": [
           {
            "marker": {
             "line": {
              "color": "white",
              "width": 0.6
             }
            },
            "type": "histogram"
           }
          ],
          "histogram2d": [
           {
            "colorbar": {
             "outlinewidth": 1,
             "tickcolor": "rgb(36,36,36)",
             "ticks": "outside"
            },
            "colorscale": [
             [
              0,
              "#440154"
             ],
             [
              0.1111111111111111,
              "#482878"
             ],
             [
              0.2222222222222222,
              "#3e4989"
             ],
             [
              0.3333333333333333,
              "#31688e"
             ],
             [
              0.4444444444444444,
              "#26828e"
             ],
             [
              0.5555555555555556,
              "#1f9e89"
             ],
             [
              0.6666666666666666,
              "#35b779"
             ],
             [
              0.7777777777777778,
              "#6ece58"
             ],
             [
              0.8888888888888888,
              "#b5de2b"
             ],
             [
              1,
              "#fde725"
             ]
            ],
            "type": "histogram2d"
           }
          ],
          "histogram2dcontour": [
           {
            "colorbar": {
             "outlinewidth": 1,
             "tickcolor": "rgb(36,36,36)",
             "ticks": "outside"
            },
            "colorscale": [
             [
              0,
              "#440154"
             ],
             [
              0.1111111111111111,
              "#482878"
             ],
             [
              0.2222222222222222,
              "#3e4989"
             ],
             [
              0.3333333333333333,
              "#31688e"
             ],
             [
              0.4444444444444444,
              "#26828e"
             ],
             [
              0.5555555555555556,
              "#1f9e89"
             ],
             [
              0.6666666666666666,
              "#35b779"
             ],
             [
              0.7777777777777778,
              "#6ece58"
             ],
             [
              0.8888888888888888,
              "#b5de2b"
             ],
             [
              1,
              "#fde725"
             ]
            ],
            "type": "histogram2dcontour"
           }
          ],
          "mesh3d": [
           {
            "colorbar": {
             "outlinewidth": 1,
             "tickcolor": "rgb(36,36,36)",
             "ticks": "outside"
            },
            "type": "mesh3d"
           }
          ],
          "parcoords": [
           {
            "line": {
             "colorbar": {
              "outlinewidth": 1,
              "tickcolor": "rgb(36,36,36)",
              "ticks": "outside"
             }
            },
            "type": "parcoords"
           }
          ],
          "pie": [
           {
            "automargin": true,
            "type": "pie"
           }
          ],
          "scatter": [
           {
            "fillpattern": {
             "fillmode": "overlay",
             "size": 10,
             "solidity": 0.2
            },
            "type": "scatter"
           }
          ],
          "scatter3d": [
           {
            "line": {
             "colorbar": {
              "outlinewidth": 1,
              "tickcolor": "rgb(36,36,36)",
              "ticks": "outside"
             }
            },
            "marker": {
             "colorbar": {
              "outlinewidth": 1,
              "tickcolor": "rgb(36,36,36)",
              "ticks": "outside"
             }
            },
            "type": "scatter3d"
           }
          ],
          "scattercarpet": [
           {
            "marker": {
             "colorbar": {
              "outlinewidth": 1,
              "tickcolor": "rgb(36,36,36)",
              "ticks": "outside"
             }
            },
            "type": "scattercarpet"
           }
          ],
          "scattergeo": [
           {
            "marker": {
             "colorbar": {
              "outlinewidth": 1,
              "tickcolor": "rgb(36,36,36)",
              "ticks": "outside"
             }
            },
            "type": "scattergeo"
           }
          ],
          "scattergl": [
           {
            "marker": {
             "colorbar": {
              "outlinewidth": 1,
              "tickcolor": "rgb(36,36,36)",
              "ticks": "outside"
             }
            },
            "type": "scattergl"
           }
          ],
          "scattermapbox": [
           {
            "marker": {
             "colorbar": {
              "outlinewidth": 1,
              "tickcolor": "rgb(36,36,36)",
              "ticks": "outside"
             }
            },
            "type": "scattermapbox"
           }
          ],
          "scatterpolar": [
           {
            "marker": {
             "colorbar": {
              "outlinewidth": 1,
              "tickcolor": "rgb(36,36,36)",
              "ticks": "outside"
             }
            },
            "type": "scatterpolar"
           }
          ],
          "scatterpolargl": [
           {
            "marker": {
             "colorbar": {
              "outlinewidth": 1,
              "tickcolor": "rgb(36,36,36)",
              "ticks": "outside"
             }
            },
            "type": "scatterpolargl"
           }
          ],
          "scatterternary": [
           {
            "marker": {
             "colorbar": {
              "outlinewidth": 1,
              "tickcolor": "rgb(36,36,36)",
              "ticks": "outside"
             }
            },
            "type": "scatterternary"
           }
          ],
          "surface": [
           {
            "colorbar": {
             "outlinewidth": 1,
             "tickcolor": "rgb(36,36,36)",
             "ticks": "outside"
            },
            "colorscale": [
             [
              0,
              "#440154"
             ],
             [
              0.1111111111111111,
              "#482878"
             ],
             [
              0.2222222222222222,
              "#3e4989"
             ],
             [
              0.3333333333333333,
              "#31688e"
             ],
             [
              0.4444444444444444,
              "#26828e"
             ],
             [
              0.5555555555555556,
              "#1f9e89"
             ],
             [
              0.6666666666666666,
              "#35b779"
             ],
             [
              0.7777777777777778,
              "#6ece58"
             ],
             [
              0.8888888888888888,
              "#b5de2b"
             ],
             [
              1,
              "#fde725"
             ]
            ],
            "type": "surface"
           }
          ],
          "table": [
           {
            "cells": {
             "fill": {
              "color": "rgb(237,237,237)"
             },
             "line": {
              "color": "white"
             }
            },
            "header": {
             "fill": {
              "color": "rgb(217,217,217)"
             },
             "line": {
              "color": "white"
             }
            },
            "type": "table"
           }
          ]
         },
         "layout": {
          "annotationdefaults": {
           "arrowhead": 0,
           "arrowwidth": 1
          },
          "autotypenumbers": "strict",
          "coloraxis": {
           "colorbar": {
            "outlinewidth": 1,
            "tickcolor": "rgb(36,36,36)",
            "ticks": "outside"
           }
          },
          "colorscale": {
           "diverging": [
            [
             0,
             "rgb(103,0,31)"
            ],
            [
             0.1,
             "rgb(178,24,43)"
            ],
            [
             0.2,
             "rgb(214,96,77)"
            ],
            [
             0.3,
             "rgb(244,165,130)"
            ],
            [
             0.4,
             "rgb(253,219,199)"
            ],
            [
             0.5,
             "rgb(247,247,247)"
            ],
            [
             0.6,
             "rgb(209,229,240)"
            ],
            [
             0.7,
             "rgb(146,197,222)"
            ],
            [
             0.8,
             "rgb(67,147,195)"
            ],
            [
             0.9,
             "rgb(33,102,172)"
            ],
            [
             1,
             "rgb(5,48,97)"
            ]
           ],
           "sequential": [
            [
             0,
             "#440154"
            ],
            [
             0.1111111111111111,
             "#482878"
            ],
            [
             0.2222222222222222,
             "#3e4989"
            ],
            [
             0.3333333333333333,
             "#31688e"
            ],
            [
             0.4444444444444444,
             "#26828e"
            ],
            [
             0.5555555555555556,
             "#1f9e89"
            ],
            [
             0.6666666666666666,
             "#35b779"
            ],
            [
             0.7777777777777778,
             "#6ece58"
            ],
            [
             0.8888888888888888,
             "#b5de2b"
            ],
            [
             1,
             "#fde725"
            ]
           ],
           "sequentialminus": [
            [
             0,
             "#440154"
            ],
            [
             0.1111111111111111,
             "#482878"
            ],
            [
             0.2222222222222222,
             "#3e4989"
            ],
            [
             0.3333333333333333,
             "#31688e"
            ],
            [
             0.4444444444444444,
             "#26828e"
            ],
            [
             0.5555555555555556,
             "#1f9e89"
            ],
            [
             0.6666666666666666,
             "#35b779"
            ],
            [
             0.7777777777777778,
             "#6ece58"
            ],
            [
             0.8888888888888888,
             "#b5de2b"
            ],
            [
             1,
             "#fde725"
            ]
           ]
          },
          "colorway": [
           "#1F77B4",
           "#FF7F0E",
           "#2CA02C",
           "#D62728",
           "#9467BD",
           "#8C564B",
           "#E377C2",
           "#7F7F7F",
           "#BCBD22",
           "#17BECF"
          ],
          "font": {
           "color": "rgb(36,36,36)"
          },
          "geo": {
           "bgcolor": "white",
           "lakecolor": "white",
           "landcolor": "white",
           "showlakes": true,
           "showland": true,
           "subunitcolor": "white"
          },
          "hoverlabel": {
           "align": "left"
          },
          "hovermode": "closest",
          "mapbox": {
           "style": "light"
          },
          "paper_bgcolor": "white",
          "plot_bgcolor": "white",
          "polar": {
           "angularaxis": {
            "gridcolor": "rgb(232,232,232)",
            "linecolor": "rgb(36,36,36)",
            "showgrid": false,
            "showline": true,
            "ticks": "outside"
           },
           "bgcolor": "white",
           "radialaxis": {
            "gridcolor": "rgb(232,232,232)",
            "linecolor": "rgb(36,36,36)",
            "showgrid": false,
            "showline": true,
            "ticks": "outside"
           }
          },
          "scene": {
           "xaxis": {
            "backgroundcolor": "white",
            "gridcolor": "rgb(232,232,232)",
            "gridwidth": 2,
            "linecolor": "rgb(36,36,36)",
            "showbackground": true,
            "showgrid": false,
            "showline": true,
            "ticks": "outside",
            "zeroline": false,
            "zerolinecolor": "rgb(36,36,36)"
           },
           "yaxis": {
            "backgroundcolor": "white",
            "gridcolor": "rgb(232,232,232)",
            "gridwidth": 2,
            "linecolor": "rgb(36,36,36)",
            "showbackground": true,
            "showgrid": false,
            "showline": true,
            "ticks": "outside",
            "zeroline": false,
            "zerolinecolor": "rgb(36,36,36)"
           },
           "zaxis": {
            "backgroundcolor": "white",
            "gridcolor": "rgb(232,232,232)",
            "gridwidth": 2,
            "linecolor": "rgb(36,36,36)",
            "showbackground": true,
            "showgrid": false,
            "showline": true,
            "ticks": "outside",
            "zeroline": false,
            "zerolinecolor": "rgb(36,36,36)"
           }
          },
          "shapedefaults": {
           "fillcolor": "black",
           "line": {
            "width": 0
           },
           "opacity": 0.3
          },
          "ternary": {
           "aaxis": {
            "gridcolor": "rgb(232,232,232)",
            "linecolor": "rgb(36,36,36)",
            "showgrid": false,
            "showline": true,
            "ticks": "outside"
           },
           "baxis": {
            "gridcolor": "rgb(232,232,232)",
            "linecolor": "rgb(36,36,36)",
            "showgrid": false,
            "showline": true,
            "ticks": "outside"
           },
           "bgcolor": "white",
           "caxis": {
            "gridcolor": "rgb(232,232,232)",
            "linecolor": "rgb(36,36,36)",
            "showgrid": false,
            "showline": true,
            "ticks": "outside"
           }
          },
          "title": {
           "x": 0.05
          },
          "xaxis": {
           "automargin": true,
           "gridcolor": "rgb(232,232,232)",
           "linecolor": "rgb(36,36,36)",
           "showgrid": false,
           "showline": true,
           "ticks": "outside",
           "title": {
            "standoff": 15
           },
           "zeroline": false,
           "zerolinecolor": "rgb(36,36,36)"
          },
          "yaxis": {
           "automargin": true,
           "gridcolor": "rgb(232,232,232)",
           "linecolor": "rgb(36,36,36)",
           "showgrid": false,
           "showline": true,
           "ticks": "outside",
           "title": {
            "standoff": 15
           },
           "zeroline": false,
           "zerolinecolor": "rgb(36,36,36)"
          }
         }
        },
        "title": {
         "font": {
          "size": 24
         },
         "text": "efficiency and performance analysis"
        },
        "width": 800,
        "xaxis": {
         "anchor": "y",
         "domain": [
          0,
          0.49
         ],
         "title": {
          "text": "ALGOS"
         }
        },
        "xaxis2": {
         "anchor": "y2",
         "domain": [
          0.51,
          1
         ],
         "matches": "x",
         "title": {
          "text": "ALGOS"
         }
        },
        "yaxis": {
         "anchor": "x",
         "domain": [
          0,
          1
         ],
         "title": {
          "text": "percent of sum of value"
         }
        },
        "yaxis2": {
         "anchor": "x2",
         "domain": [
          0,
          1
         ],
         "matches": "y",
         "showticklabels": false
        }
       }
      }
     },
     "metadata": {},
     "output_type": "display_data"
    }
   ],
   "source": [
    "ds = [\"Electricity\",\"ExchangeRate\"]\n",
    "df = report_df.query(f'SOURCE == \"{ds[0]}\" or SOURCE == \"{ds[1]}\"')\n",
    "fig = px.histogram(df, \n",
    "                    x=\"ALGOS\", \n",
    "                    y=[\"SPEED\",\"MAE\",\"WAPE\",\"MAPE\"], \n",
    "                    width=800,\n",
    "                    height=300,\n",
    "                    color_discrete_map={\n",
    "                        \"SPEED\": \"RebeccaPurple\", \"MAE\": \"lightsalmon\"\n",
    "                        },\n",
    "                    template=\"simple_white\",\n",
    "                    facet_col=\"SOURCE\",\n",
    "                    facet_col_wrap = 2,\n",
    "                    histnorm = \"percent\"\n",
    "                    )\n",
    "\n",
    "fig.update_layout(title=\"efficiency and performance analysis\", \n",
    "                font_family=\"San Serif\",\n",
    "                bargap=0.2,\n",
    "                barmode='group',\n",
    "                titlefont={'size': 24},\n",
    "                legend=dict(\n",
    "                orientation=\"v\", y=1, yanchor=\"top\", x=1.25, xanchor=\"right\")                \n",
    "                )\n",
    "\n",
    "fig.show()"
   ]
  }
 ],
 "metadata": {
  "kernelspec": {
   "display_name": "base",
   "language": "python",
   "name": "python3"
  },
  "language_info": {
   "codemirror_mode": {
    "name": "ipython",
    "version": 3
   },
   "file_extension": ".py",
   "mimetype": "text/x-python",
   "name": "python",
   "nbconvert_exporter": "python",
   "pygments_lexer": "ipython3",
   "version": "3.11.5"
  }
 },
 "nbformat": 4,
 "nbformat_minor": 2
}
